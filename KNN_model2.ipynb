{
 "cells": [
  {
   "cell_type": "markdown",
   "metadata": {},
   "source": [
    "# Machine Learning: Model 2\n",
    "\n"
   ]
  },
  {
   "cell_type": "markdown",
   "metadata": {},
   "source": [
    "## K Nearest Neighbors"
   ]
  },
  {
   "cell_type": "markdown",
   "metadata": {},
   "source": [
    "### Importing Dependencies"
   ]
  },
  {
   "cell_type": "code",
   "execution_count": 20,
   "metadata": {},
   "outputs": [],
   "source": [
    "import pandas as pd\n",
    "import numpy as np\n",
    "import matplotlib.pyplot as plt\n",
    "import seaborn as sns; sns.set()\n",
    "\n",
    "import sklearn\n",
    "from sklearn.datasets import load_iris\n",
    "from sklearn.model_selection import train_test_split\n",
    "from sklearn.neighbors import KNeighborsClassifier\n",
    "import joblib\n",
    "\n",
    "from IPython.core.interactiveshell import InteractiveShell\n",
    "InteractiveShell.ast_node_interactivity = \"all\"\n",
    "from IPython.display import Image"
   ]
  },
  {
   "cell_type": "markdown",
   "metadata": {},
   "source": [
    "### Read CSV and perform data cleaning"
   ]
  },
  {
   "cell_type": "code",
   "execution_count": 21,
   "metadata": {
    "scrolled": true
   },
   "outputs": [
    {
     "data": {
      "text/html": [
       "<div>\n",
       "<style scoped>\n",
       "    .dataframe tbody tr th:only-of-type {\n",
       "        vertical-align: middle;\n",
       "    }\n",
       "\n",
       "    .dataframe tbody tr th {\n",
       "        vertical-align: top;\n",
       "    }\n",
       "\n",
       "    .dataframe thead th {\n",
       "        text-align: right;\n",
       "    }\n",
       "</style>\n",
       "<table border=\"1\" class=\"dataframe\">\n",
       "  <thead>\n",
       "    <tr style=\"text-align: right;\">\n",
       "      <th></th>\n",
       "      <th>koi_disposition</th>\n",
       "      <th>koi_fpflag_nt</th>\n",
       "      <th>koi_fpflag_ss</th>\n",
       "      <th>koi_fpflag_co</th>\n",
       "      <th>koi_fpflag_ec</th>\n",
       "      <th>koi_period</th>\n",
       "      <th>koi_period_err1</th>\n",
       "      <th>koi_period_err2</th>\n",
       "      <th>koi_time0bk</th>\n",
       "      <th>koi_time0bk_err1</th>\n",
       "      <th>...</th>\n",
       "      <th>koi_steff_err2</th>\n",
       "      <th>koi_slogg</th>\n",
       "      <th>koi_slogg_err1</th>\n",
       "      <th>koi_slogg_err2</th>\n",
       "      <th>koi_srad</th>\n",
       "      <th>koi_srad_err1</th>\n",
       "      <th>koi_srad_err2</th>\n",
       "      <th>ra</th>\n",
       "      <th>dec</th>\n",
       "      <th>koi_kepmag</th>\n",
       "    </tr>\n",
       "  </thead>\n",
       "  <tbody>\n",
       "    <tr>\n",
       "      <td>0</td>\n",
       "      <td>CONFIRMED</td>\n",
       "      <td>0</td>\n",
       "      <td>0</td>\n",
       "      <td>0</td>\n",
       "      <td>0</td>\n",
       "      <td>54.418383</td>\n",
       "      <td>2.479000e-04</td>\n",
       "      <td>-2.479000e-04</td>\n",
       "      <td>162.513840</td>\n",
       "      <td>0.003520</td>\n",
       "      <td>...</td>\n",
       "      <td>-81</td>\n",
       "      <td>4.467</td>\n",
       "      <td>0.064</td>\n",
       "      <td>-0.096</td>\n",
       "      <td>0.927</td>\n",
       "      <td>0.105</td>\n",
       "      <td>-0.061</td>\n",
       "      <td>291.93423</td>\n",
       "      <td>48.141651</td>\n",
       "      <td>15.347</td>\n",
       "    </tr>\n",
       "    <tr>\n",
       "      <td>1</td>\n",
       "      <td>FALSE POSITIVE</td>\n",
       "      <td>0</td>\n",
       "      <td>1</td>\n",
       "      <td>0</td>\n",
       "      <td>0</td>\n",
       "      <td>19.899140</td>\n",
       "      <td>1.490000e-05</td>\n",
       "      <td>-1.490000e-05</td>\n",
       "      <td>175.850252</td>\n",
       "      <td>0.000581</td>\n",
       "      <td>...</td>\n",
       "      <td>-176</td>\n",
       "      <td>4.544</td>\n",
       "      <td>0.044</td>\n",
       "      <td>-0.176</td>\n",
       "      <td>0.868</td>\n",
       "      <td>0.233</td>\n",
       "      <td>-0.078</td>\n",
       "      <td>297.00482</td>\n",
       "      <td>48.134129</td>\n",
       "      <td>15.436</td>\n",
       "    </tr>\n",
       "    <tr>\n",
       "      <td>2</td>\n",
       "      <td>FALSE POSITIVE</td>\n",
       "      <td>0</td>\n",
       "      <td>1</td>\n",
       "      <td>0</td>\n",
       "      <td>0</td>\n",
       "      <td>1.736952</td>\n",
       "      <td>2.630000e-07</td>\n",
       "      <td>-2.630000e-07</td>\n",
       "      <td>170.307565</td>\n",
       "      <td>0.000115</td>\n",
       "      <td>...</td>\n",
       "      <td>-174</td>\n",
       "      <td>4.564</td>\n",
       "      <td>0.053</td>\n",
       "      <td>-0.168</td>\n",
       "      <td>0.791</td>\n",
       "      <td>0.201</td>\n",
       "      <td>-0.067</td>\n",
       "      <td>285.53461</td>\n",
       "      <td>48.285210</td>\n",
       "      <td>15.597</td>\n",
       "    </tr>\n",
       "    <tr>\n",
       "      <td>3</td>\n",
       "      <td>CONFIRMED</td>\n",
       "      <td>0</td>\n",
       "      <td>0</td>\n",
       "      <td>0</td>\n",
       "      <td>0</td>\n",
       "      <td>2.525592</td>\n",
       "      <td>3.760000e-06</td>\n",
       "      <td>-3.760000e-06</td>\n",
       "      <td>171.595550</td>\n",
       "      <td>0.001130</td>\n",
       "      <td>...</td>\n",
       "      <td>-211</td>\n",
       "      <td>4.438</td>\n",
       "      <td>0.070</td>\n",
       "      <td>-0.210</td>\n",
       "      <td>1.046</td>\n",
       "      <td>0.334</td>\n",
       "      <td>-0.133</td>\n",
       "      <td>288.75488</td>\n",
       "      <td>48.226200</td>\n",
       "      <td>15.509</td>\n",
       "    </tr>\n",
       "    <tr>\n",
       "      <td>4</td>\n",
       "      <td>CONFIRMED</td>\n",
       "      <td>0</td>\n",
       "      <td>0</td>\n",
       "      <td>0</td>\n",
       "      <td>0</td>\n",
       "      <td>4.134435</td>\n",
       "      <td>1.050000e-05</td>\n",
       "      <td>-1.050000e-05</td>\n",
       "      <td>172.979370</td>\n",
       "      <td>0.001900</td>\n",
       "      <td>...</td>\n",
       "      <td>-232</td>\n",
       "      <td>4.486</td>\n",
       "      <td>0.054</td>\n",
       "      <td>-0.229</td>\n",
       "      <td>0.972</td>\n",
       "      <td>0.315</td>\n",
       "      <td>-0.105</td>\n",
       "      <td>296.28613</td>\n",
       "      <td>48.224670</td>\n",
       "      <td>15.714</td>\n",
       "    </tr>\n",
       "  </tbody>\n",
       "</table>\n",
       "<p>5 rows × 41 columns</p>\n",
       "</div>"
      ],
      "text/plain": [
       "  koi_disposition  koi_fpflag_nt  koi_fpflag_ss  koi_fpflag_co  koi_fpflag_ec  \\\n",
       "0       CONFIRMED              0              0              0              0   \n",
       "1  FALSE POSITIVE              0              1              0              0   \n",
       "2  FALSE POSITIVE              0              1              0              0   \n",
       "3       CONFIRMED              0              0              0              0   \n",
       "4       CONFIRMED              0              0              0              0   \n",
       "\n",
       "   koi_period  koi_period_err1  koi_period_err2  koi_time0bk  \\\n",
       "0   54.418383     2.479000e-04    -2.479000e-04   162.513840   \n",
       "1   19.899140     1.490000e-05    -1.490000e-05   175.850252   \n",
       "2    1.736952     2.630000e-07    -2.630000e-07   170.307565   \n",
       "3    2.525592     3.760000e-06    -3.760000e-06   171.595550   \n",
       "4    4.134435     1.050000e-05    -1.050000e-05   172.979370   \n",
       "\n",
       "   koi_time0bk_err1  ...  koi_steff_err2  koi_slogg  koi_slogg_err1  \\\n",
       "0          0.003520  ...             -81      4.467           0.064   \n",
       "1          0.000581  ...            -176      4.544           0.044   \n",
       "2          0.000115  ...            -174      4.564           0.053   \n",
       "3          0.001130  ...            -211      4.438           0.070   \n",
       "4          0.001900  ...            -232      4.486           0.054   \n",
       "\n",
       "   koi_slogg_err2  koi_srad  koi_srad_err1  koi_srad_err2         ra  \\\n",
       "0          -0.096     0.927          0.105         -0.061  291.93423   \n",
       "1          -0.176     0.868          0.233         -0.078  297.00482   \n",
       "2          -0.168     0.791          0.201         -0.067  285.53461   \n",
       "3          -0.210     1.046          0.334         -0.133  288.75488   \n",
       "4          -0.229     0.972          0.315         -0.105  296.28613   \n",
       "\n",
       "         dec  koi_kepmag  \n",
       "0  48.141651      15.347  \n",
       "1  48.134129      15.436  \n",
       "2  48.285210      15.597  \n",
       "3  48.226200      15.509  \n",
       "4  48.224670      15.714  \n",
       "\n",
       "[5 rows x 41 columns]"
      ]
     },
     "execution_count": 21,
     "metadata": {},
     "output_type": "execute_result"
    }
   ],
   "source": [
    "df = pd.read_csv(\"./Data/exoplanet_data.csv\")\n",
    "# Drop the null columns where all values are null\n",
    "df = df.dropna(axis='columns', how='all')\n",
    "# Drop the null rows\n",
    "df = df.dropna()\n",
    "df.head()"
   ]
  },
  {
   "cell_type": "markdown",
   "metadata": {},
   "source": [
    "* Let's review correlation coefficients among variables"
   ]
  },
  {
   "cell_type": "code",
   "execution_count": 22,
   "metadata": {
    "scrolled": true
   },
   "outputs": [
    {
     "data": {
      "text/html": [
       "<div>\n",
       "<style scoped>\n",
       "    .dataframe tbody tr th:only-of-type {\n",
       "        vertical-align: middle;\n",
       "    }\n",
       "\n",
       "    .dataframe tbody tr th {\n",
       "        vertical-align: top;\n",
       "    }\n",
       "\n",
       "    .dataframe thead th {\n",
       "        text-align: right;\n",
       "    }\n",
       "</style>\n",
       "<table border=\"1\" class=\"dataframe\">\n",
       "  <thead>\n",
       "    <tr style=\"text-align: right;\">\n",
       "      <th></th>\n",
       "      <th>koi_fpflag_nt</th>\n",
       "      <th>koi_fpflag_ss</th>\n",
       "      <th>koi_fpflag_co</th>\n",
       "      <th>koi_fpflag_ec</th>\n",
       "      <th>koi_period</th>\n",
       "      <th>koi_period_err1</th>\n",
       "      <th>koi_period_err2</th>\n",
       "      <th>koi_time0bk</th>\n",
       "      <th>koi_time0bk_err1</th>\n",
       "      <th>koi_time0bk_err2</th>\n",
       "      <th>...</th>\n",
       "      <th>koi_steff_err2</th>\n",
       "      <th>koi_slogg</th>\n",
       "      <th>koi_slogg_err1</th>\n",
       "      <th>koi_slogg_err2</th>\n",
       "      <th>koi_srad</th>\n",
       "      <th>koi_srad_err1</th>\n",
       "      <th>koi_srad_err2</th>\n",
       "      <th>ra</th>\n",
       "      <th>dec</th>\n",
       "      <th>koi_kepmag</th>\n",
       "    </tr>\n",
       "  </thead>\n",
       "  <tbody>\n",
       "    <tr>\n",
       "      <td>koi_fpflag_nt</td>\n",
       "      <td>1.000000</td>\n",
       "      <td>-0.241148</td>\n",
       "      <td>0.003062</td>\n",
       "      <td>0.050790</td>\n",
       "      <td>0.408724</td>\n",
       "      <td>0.353231</td>\n",
       "      <td>-0.353231</td>\n",
       "      <td>0.249381</td>\n",
       "      <td>0.250697</td>\n",
       "      <td>-0.250697</td>\n",
       "      <td>...</td>\n",
       "      <td>-0.149565</td>\n",
       "      <td>-0.128576</td>\n",
       "      <td>0.053214</td>\n",
       "      <td>-0.140248</td>\n",
       "      <td>0.045535</td>\n",
       "      <td>0.098100</td>\n",
       "      <td>-0.062283</td>\n",
       "      <td>0.030920</td>\n",
       "      <td>-0.046510</td>\n",
       "      <td>-0.101643</td>\n",
       "    </tr>\n",
       "    <tr>\n",
       "      <td>koi_fpflag_ss</td>\n",
       "      <td>-0.241148</td>\n",
       "      <td>1.000000</td>\n",
       "      <td>0.144516</td>\n",
       "      <td>0.101695</td>\n",
       "      <td>-0.155964</td>\n",
       "      <td>-0.134208</td>\n",
       "      <td>0.134208</td>\n",
       "      <td>-0.111469</td>\n",
       "      <td>-0.177043</td>\n",
       "      <td>0.177043</td>\n",
       "      <td>...</td>\n",
       "      <td>-0.185036</td>\n",
       "      <td>-0.053394</td>\n",
       "      <td>0.118900</td>\n",
       "      <td>-0.061800</td>\n",
       "      <td>0.032638</td>\n",
       "      <td>0.030783</td>\n",
       "      <td>-0.034283</td>\n",
       "      <td>0.088010</td>\n",
       "      <td>-0.053471</td>\n",
       "      <td>-0.006009</td>\n",
       "    </tr>\n",
       "    <tr>\n",
       "      <td>koi_fpflag_co</td>\n",
       "      <td>0.003062</td>\n",
       "      <td>0.144516</td>\n",
       "      <td>1.000000</td>\n",
       "      <td>0.538280</td>\n",
       "      <td>-0.164792</td>\n",
       "      <td>-0.084351</td>\n",
       "      <td>0.084351</td>\n",
       "      <td>-0.121452</td>\n",
       "      <td>-0.023107</td>\n",
       "      <td>0.023107</td>\n",
       "      <td>...</td>\n",
       "      <td>-0.121247</td>\n",
       "      <td>-0.012101</td>\n",
       "      <td>-0.019921</td>\n",
       "      <td>-0.057406</td>\n",
       "      <td>0.032129</td>\n",
       "      <td>0.029239</td>\n",
       "      <td>-0.016611</td>\n",
       "      <td>0.159988</td>\n",
       "      <td>-0.094027</td>\n",
       "      <td>0.067023</td>\n",
       "    </tr>\n",
       "    <tr>\n",
       "      <td>koi_fpflag_ec</td>\n",
       "      <td>0.050790</td>\n",
       "      <td>0.101695</td>\n",
       "      <td>0.538280</td>\n",
       "      <td>1.000000</td>\n",
       "      <td>-0.138946</td>\n",
       "      <td>-0.079903</td>\n",
       "      <td>0.079903</td>\n",
       "      <td>-0.099760</td>\n",
       "      <td>0.013635</td>\n",
       "      <td>-0.013635</td>\n",
       "      <td>...</td>\n",
       "      <td>-0.083607</td>\n",
       "      <td>0.003066</td>\n",
       "      <td>-0.006111</td>\n",
       "      <td>-0.052307</td>\n",
       "      <td>0.022411</td>\n",
       "      <td>0.030085</td>\n",
       "      <td>-0.011970</td>\n",
       "      <td>0.069693</td>\n",
       "      <td>-0.045495</td>\n",
       "      <td>0.047932</td>\n",
       "    </tr>\n",
       "    <tr>\n",
       "      <td>koi_period</td>\n",
       "      <td>0.408724</td>\n",
       "      <td>-0.155964</td>\n",
       "      <td>-0.164792</td>\n",
       "      <td>-0.138946</td>\n",
       "      <td>1.000000</td>\n",
       "      <td>0.674842</td>\n",
       "      <td>-0.674842</td>\n",
       "      <td>0.655186</td>\n",
       "      <td>0.272529</td>\n",
       "      <td>-0.272529</td>\n",
       "      <td>...</td>\n",
       "      <td>-0.036036</td>\n",
       "      <td>-0.055410</td>\n",
       "      <td>-0.006147</td>\n",
       "      <td>-0.168086</td>\n",
       "      <td>0.017590</td>\n",
       "      <td>0.041289</td>\n",
       "      <td>-0.008776</td>\n",
       "      <td>-0.030675</td>\n",
       "      <td>0.011226</td>\n",
       "      <td>-0.045959</td>\n",
       "    </tr>\n",
       "    <tr>\n",
       "      <td>koi_period_err1</td>\n",
       "      <td>0.353231</td>\n",
       "      <td>-0.134208</td>\n",
       "      <td>-0.084351</td>\n",
       "      <td>-0.079903</td>\n",
       "      <td>0.674842</td>\n",
       "      <td>1.000000</td>\n",
       "      <td>-1.000000</td>\n",
       "      <td>0.469613</td>\n",
       "      <td>0.472034</td>\n",
       "      <td>-0.472034</td>\n",
       "      <td>...</td>\n",
       "      <td>-0.055134</td>\n",
       "      <td>-0.014447</td>\n",
       "      <td>0.005737</td>\n",
       "      <td>-0.140277</td>\n",
       "      <td>0.015100</td>\n",
       "      <td>0.033152</td>\n",
       "      <td>-0.008890</td>\n",
       "      <td>-0.005353</td>\n",
       "      <td>0.007145</td>\n",
       "      <td>-0.034097</td>\n",
       "    </tr>\n",
       "    <tr>\n",
       "      <td>koi_period_err2</td>\n",
       "      <td>-0.353231</td>\n",
       "      <td>0.134208</td>\n",
       "      <td>0.084351</td>\n",
       "      <td>0.079903</td>\n",
       "      <td>-0.674842</td>\n",
       "      <td>-1.000000</td>\n",
       "      <td>1.000000</td>\n",
       "      <td>-0.469613</td>\n",
       "      <td>-0.472034</td>\n",
       "      <td>0.472034</td>\n",
       "      <td>...</td>\n",
       "      <td>0.055134</td>\n",
       "      <td>0.014447</td>\n",
       "      <td>-0.005737</td>\n",
       "      <td>0.140277</td>\n",
       "      <td>-0.015100</td>\n",
       "      <td>-0.033152</td>\n",
       "      <td>0.008890</td>\n",
       "      <td>0.005353</td>\n",
       "      <td>-0.007145</td>\n",
       "      <td>0.034097</td>\n",
       "    </tr>\n",
       "    <tr>\n",
       "      <td>koi_time0bk</td>\n",
       "      <td>0.249381</td>\n",
       "      <td>-0.111469</td>\n",
       "      <td>-0.121452</td>\n",
       "      <td>-0.099760</td>\n",
       "      <td>0.655186</td>\n",
       "      <td>0.469613</td>\n",
       "      <td>-0.469613</td>\n",
       "      <td>1.000000</td>\n",
       "      <td>0.162845</td>\n",
       "      <td>-0.162845</td>\n",
       "      <td>...</td>\n",
       "      <td>-0.030101</td>\n",
       "      <td>-0.001929</td>\n",
       "      <td>-0.031890</td>\n",
       "      <td>-0.107467</td>\n",
       "      <td>-0.004831</td>\n",
       "      <td>0.006444</td>\n",
       "      <td>0.011434</td>\n",
       "      <td>-0.016981</td>\n",
       "      <td>0.010483</td>\n",
       "      <td>0.021898</td>\n",
       "    </tr>\n",
       "    <tr>\n",
       "      <td>koi_time0bk_err1</td>\n",
       "      <td>0.250697</td>\n",
       "      <td>-0.177043</td>\n",
       "      <td>-0.023107</td>\n",
       "      <td>0.013635</td>\n",
       "      <td>0.272529</td>\n",
       "      <td>0.472034</td>\n",
       "      <td>-0.472034</td>\n",
       "      <td>0.162845</td>\n",
       "      <td>1.000000</td>\n",
       "      <td>-1.000000</td>\n",
       "      <td>...</td>\n",
       "      <td>-0.056111</td>\n",
       "      <td>-0.046285</td>\n",
       "      <td>0.035131</td>\n",
       "      <td>-0.116730</td>\n",
       "      <td>0.047142</td>\n",
       "      <td>0.068065</td>\n",
       "      <td>-0.042652</td>\n",
       "      <td>-0.003804</td>\n",
       "      <td>-0.009188</td>\n",
       "      <td>-0.041119</td>\n",
       "    </tr>\n",
       "    <tr>\n",
       "      <td>koi_time0bk_err2</td>\n",
       "      <td>-0.250697</td>\n",
       "      <td>0.177043</td>\n",
       "      <td>0.023107</td>\n",
       "      <td>-0.013635</td>\n",
       "      <td>-0.272529</td>\n",
       "      <td>-0.472034</td>\n",
       "      <td>0.472034</td>\n",
       "      <td>-0.162845</td>\n",
       "      <td>-1.000000</td>\n",
       "      <td>1.000000</td>\n",
       "      <td>...</td>\n",
       "      <td>0.056111</td>\n",
       "      <td>0.046285</td>\n",
       "      <td>-0.035131</td>\n",
       "      <td>0.116730</td>\n",
       "      <td>-0.047142</td>\n",
       "      <td>-0.068065</td>\n",
       "      <td>0.042652</td>\n",
       "      <td>0.003804</td>\n",
       "      <td>0.009188</td>\n",
       "      <td>0.041119</td>\n",
       "    </tr>\n",
       "    <tr>\n",
       "      <td>koi_impact</td>\n",
       "      <td>0.072748</td>\n",
       "      <td>0.042021</td>\n",
       "      <td>0.007501</td>\n",
       "      <td>-0.004913</td>\n",
       "      <td>0.067571</td>\n",
       "      <td>0.028068</td>\n",
       "      <td>-0.028068</td>\n",
       "      <td>0.055597</td>\n",
       "      <td>0.023150</td>\n",
       "      <td>-0.023150</td>\n",
       "      <td>...</td>\n",
       "      <td>-0.042486</td>\n",
       "      <td>-0.073798</td>\n",
       "      <td>0.003575</td>\n",
       "      <td>0.005371</td>\n",
       "      <td>0.030429</td>\n",
       "      <td>0.027216</td>\n",
       "      <td>-0.040577</td>\n",
       "      <td>0.018979</td>\n",
       "      <td>0.000357</td>\n",
       "      <td>-0.000494</td>\n",
       "    </tr>\n",
       "    <tr>\n",
       "      <td>koi_impact_err1</td>\n",
       "      <td>-0.012333</td>\n",
       "      <td>0.130379</td>\n",
       "      <td>0.097642</td>\n",
       "      <td>0.030568</td>\n",
       "      <td>0.012136</td>\n",
       "      <td>-0.004699</td>\n",
       "      <td>0.004699</td>\n",
       "      <td>0.044399</td>\n",
       "      <td>-0.015680</td>\n",
       "      <td>0.015680</td>\n",
       "      <td>...</td>\n",
       "      <td>-0.035026</td>\n",
       "      <td>0.006963</td>\n",
       "      <td>0.004925</td>\n",
       "      <td>-0.010891</td>\n",
       "      <td>0.002778</td>\n",
       "      <td>-0.003581</td>\n",
       "      <td>-0.003321</td>\n",
       "      <td>0.031275</td>\n",
       "      <td>-0.025840</td>\n",
       "      <td>0.058742</td>\n",
       "    </tr>\n",
       "    <tr>\n",
       "      <td>koi_impact_err2</td>\n",
       "      <td>-0.059048</td>\n",
       "      <td>0.054633</td>\n",
       "      <td>0.002609</td>\n",
       "      <td>0.011326</td>\n",
       "      <td>-0.074607</td>\n",
       "      <td>-0.039732</td>\n",
       "      <td>0.039732</td>\n",
       "      <td>-0.065649</td>\n",
       "      <td>-0.035277</td>\n",
       "      <td>0.035277</td>\n",
       "      <td>...</td>\n",
       "      <td>0.010564</td>\n",
       "      <td>0.042619</td>\n",
       "      <td>0.020665</td>\n",
       "      <td>-0.019614</td>\n",
       "      <td>-0.022612</td>\n",
       "      <td>-0.013278</td>\n",
       "      <td>0.027843</td>\n",
       "      <td>0.003251</td>\n",
       "      <td>-0.005763</td>\n",
       "      <td>-0.007268</td>\n",
       "    </tr>\n",
       "    <tr>\n",
       "      <td>koi_duration</td>\n",
       "      <td>0.287118</td>\n",
       "      <td>0.014224</td>\n",
       "      <td>-0.048398</td>\n",
       "      <td>0.023232</td>\n",
       "      <td>0.324488</td>\n",
       "      <td>0.268469</td>\n",
       "      <td>-0.268469</td>\n",
       "      <td>0.200979</td>\n",
       "      <td>0.199305</td>\n",
       "      <td>-0.199305</td>\n",
       "      <td>...</td>\n",
       "      <td>-0.064692</td>\n",
       "      <td>-0.129763</td>\n",
       "      <td>0.103475</td>\n",
       "      <td>-0.075161</td>\n",
       "      <td>0.016414</td>\n",
       "      <td>0.051874</td>\n",
       "      <td>-0.021147</td>\n",
       "      <td>0.038933</td>\n",
       "      <td>-0.034985</td>\n",
       "      <td>-0.100665</td>\n",
       "    </tr>\n",
       "    <tr>\n",
       "      <td>koi_duration_err1</td>\n",
       "      <td>0.337558</td>\n",
       "      <td>-0.181716</td>\n",
       "      <td>-0.004961</td>\n",
       "      <td>0.025359</td>\n",
       "      <td>0.373670</td>\n",
       "      <td>0.529821</td>\n",
       "      <td>-0.529821</td>\n",
       "      <td>0.228485</td>\n",
       "      <td>0.519143</td>\n",
       "      <td>-0.519143</td>\n",
       "      <td>...</td>\n",
       "      <td>-0.075200</td>\n",
       "      <td>-0.053938</td>\n",
       "      <td>0.026541</td>\n",
       "      <td>-0.125412</td>\n",
       "      <td>0.035273</td>\n",
       "      <td>0.070590</td>\n",
       "      <td>-0.041539</td>\n",
       "      <td>0.017246</td>\n",
       "      <td>-0.024835</td>\n",
       "      <td>-0.057382</td>\n",
       "    </tr>\n",
       "    <tr>\n",
       "      <td>koi_duration_err2</td>\n",
       "      <td>-0.337558</td>\n",
       "      <td>0.181716</td>\n",
       "      <td>0.004961</td>\n",
       "      <td>-0.025359</td>\n",
       "      <td>-0.373670</td>\n",
       "      <td>-0.529821</td>\n",
       "      <td>0.529821</td>\n",
       "      <td>-0.228485</td>\n",
       "      <td>-0.519143</td>\n",
       "      <td>0.519143</td>\n",
       "      <td>...</td>\n",
       "      <td>0.075200</td>\n",
       "      <td>0.053938</td>\n",
       "      <td>-0.026541</td>\n",
       "      <td>0.125412</td>\n",
       "      <td>-0.035273</td>\n",
       "      <td>-0.070590</td>\n",
       "      <td>0.041539</td>\n",
       "      <td>-0.017246</td>\n",
       "      <td>0.024835</td>\n",
       "      <td>0.057382</td>\n",
       "    </tr>\n",
       "    <tr>\n",
       "      <td>koi_depth</td>\n",
       "      <td>-0.043942</td>\n",
       "      <td>0.423883</td>\n",
       "      <td>-0.132939</td>\n",
       "      <td>-0.088001</td>\n",
       "      <td>-0.064272</td>\n",
       "      <td>-0.069138</td>\n",
       "      <td>0.069138</td>\n",
       "      <td>-0.037195</td>\n",
       "      <td>-0.110431</td>\n",
       "      <td>0.110431</td>\n",
       "      <td>...</td>\n",
       "      <td>-0.145095</td>\n",
       "      <td>-0.010089</td>\n",
       "      <td>0.107630</td>\n",
       "      <td>-0.026884</td>\n",
       "      <td>-0.017221</td>\n",
       "      <td>-0.003366</td>\n",
       "      <td>0.001752</td>\n",
       "      <td>0.019420</td>\n",
       "      <td>-0.016085</td>\n",
       "      <td>0.002357</td>\n",
       "    </tr>\n",
       "    <tr>\n",
       "      <td>koi_depth_err1</td>\n",
       "      <td>0.031922</td>\n",
       "      <td>0.003900</td>\n",
       "      <td>-0.011108</td>\n",
       "      <td>-0.003062</td>\n",
       "      <td>0.038614</td>\n",
       "      <td>0.009823</td>\n",
       "      <td>-0.009823</td>\n",
       "      <td>0.055597</td>\n",
       "      <td>0.015094</td>\n",
       "      <td>-0.015094</td>\n",
       "      <td>...</td>\n",
       "      <td>-0.009112</td>\n",
       "      <td>0.008869</td>\n",
       "      <td>-0.008146</td>\n",
       "      <td>0.017467</td>\n",
       "      <td>-0.002410</td>\n",
       "      <td>0.000471</td>\n",
       "      <td>0.002033</td>\n",
       "      <td>0.012244</td>\n",
       "      <td>-0.017673</td>\n",
       "      <td>0.014122</td>\n",
       "    </tr>\n",
       "    <tr>\n",
       "      <td>koi_depth_err2</td>\n",
       "      <td>-0.031922</td>\n",
       "      <td>-0.003900</td>\n",
       "      <td>0.011108</td>\n",
       "      <td>0.003062</td>\n",
       "      <td>-0.038614</td>\n",
       "      <td>-0.009823</td>\n",
       "      <td>0.009823</td>\n",
       "      <td>-0.055597</td>\n",
       "      <td>-0.015094</td>\n",
       "      <td>0.015094</td>\n",
       "      <td>...</td>\n",
       "      <td>0.009112</td>\n",
       "      <td>-0.008869</td>\n",
       "      <td>0.008146</td>\n",
       "      <td>-0.017467</td>\n",
       "      <td>0.002410</td>\n",
       "      <td>-0.000471</td>\n",
       "      <td>-0.002033</td>\n",
       "      <td>-0.012244</td>\n",
       "      <td>0.017673</td>\n",
       "      <td>-0.014122</td>\n",
       "    </tr>\n",
       "    <tr>\n",
       "      <td>koi_prad</td>\n",
       "      <td>0.054410</td>\n",
       "      <td>-0.000752</td>\n",
       "      <td>-0.013284</td>\n",
       "      <td>-0.011078</td>\n",
       "      <td>0.072790</td>\n",
       "      <td>0.030522</td>\n",
       "      <td>-0.030522</td>\n",
       "      <td>0.039814</td>\n",
       "      <td>0.014575</td>\n",
       "      <td>-0.014575</td>\n",
       "      <td>...</td>\n",
       "      <td>-0.023671</td>\n",
       "      <td>-0.105581</td>\n",
       "      <td>-0.005685</td>\n",
       "      <td>0.022171</td>\n",
       "      <td>0.061426</td>\n",
       "      <td>0.035028</td>\n",
       "      <td>-0.072665</td>\n",
       "      <td>0.007930</td>\n",
       "      <td>0.003478</td>\n",
       "      <td>-0.023326</td>\n",
       "    </tr>\n",
       "    <tr>\n",
       "      <td>koi_prad_err1</td>\n",
       "      <td>0.061662</td>\n",
       "      <td>0.004241</td>\n",
       "      <td>-0.015563</td>\n",
       "      <td>-0.013318</td>\n",
       "      <td>0.052353</td>\n",
       "      <td>0.021726</td>\n",
       "      <td>-0.021726</td>\n",
       "      <td>0.041496</td>\n",
       "      <td>0.031086</td>\n",
       "      <td>-0.031086</td>\n",
       "      <td>...</td>\n",
       "      <td>-0.020388</td>\n",
       "      <td>-0.100544</td>\n",
       "      <td>0.017244</td>\n",
       "      <td>-0.011894</td>\n",
       "      <td>0.043544</td>\n",
       "      <td>0.057477</td>\n",
       "      <td>-0.052134</td>\n",
       "      <td>0.009677</td>\n",
       "      <td>0.004542</td>\n",
       "      <td>-0.008056</td>\n",
       "    </tr>\n",
       "    <tr>\n",
       "      <td>koi_prad_err2</td>\n",
       "      <td>-0.051273</td>\n",
       "      <td>0.003393</td>\n",
       "      <td>0.012901</td>\n",
       "      <td>0.009913</td>\n",
       "      <td>-0.070736</td>\n",
       "      <td>-0.030554</td>\n",
       "      <td>0.030554</td>\n",
       "      <td>-0.037977</td>\n",
       "      <td>-0.013119</td>\n",
       "      <td>0.013119</td>\n",
       "      <td>...</td>\n",
       "      <td>0.023403</td>\n",
       "      <td>0.101889</td>\n",
       "      <td>0.002496</td>\n",
       "      <td>-0.021115</td>\n",
       "      <td>-0.057594</td>\n",
       "      <td>-0.032067</td>\n",
       "      <td>0.073624</td>\n",
       "      <td>-0.009093</td>\n",
       "      <td>-0.003414</td>\n",
       "      <td>0.023830</td>\n",
       "    </tr>\n",
       "    <tr>\n",
       "      <td>koi_teq</td>\n",
       "      <td>-0.003013</td>\n",
       "      <td>0.191842</td>\n",
       "      <td>0.259045</td>\n",
       "      <td>0.218624</td>\n",
       "      <td>-0.390006</td>\n",
       "      <td>-0.229438</td>\n",
       "      <td>0.229438</td>\n",
       "      <td>-0.315510</td>\n",
       "      <td>-0.106671</td>\n",
       "      <td>0.106671</td>\n",
       "      <td>...</td>\n",
       "      <td>-0.197747</td>\n",
       "      <td>-0.525108</td>\n",
       "      <td>0.260169</td>\n",
       "      <td>-0.016159</td>\n",
       "      <td>0.450489</td>\n",
       "      <td>0.407895</td>\n",
       "      <td>-0.419508</td>\n",
       "      <td>0.112734</td>\n",
       "      <td>-0.061653</td>\n",
       "      <td>-0.266714</td>\n",
       "    </tr>\n",
       "    <tr>\n",
       "      <td>koi_insol</td>\n",
       "      <td>-0.000566</td>\n",
       "      <td>0.031315</td>\n",
       "      <td>0.018086</td>\n",
       "      <td>0.034874</td>\n",
       "      <td>-0.021743</td>\n",
       "      <td>-0.011772</td>\n",
       "      <td>0.011772</td>\n",
       "      <td>-0.021307</td>\n",
       "      <td>-0.003327</td>\n",
       "      <td>0.003327</td>\n",
       "      <td>...</td>\n",
       "      <td>0.017171</td>\n",
       "      <td>-0.280029</td>\n",
       "      <td>0.022740</td>\n",
       "      <td>0.026484</td>\n",
       "      <td>0.565224</td>\n",
       "      <td>0.338314</td>\n",
       "      <td>-0.528672</td>\n",
       "      <td>0.023957</td>\n",
       "      <td>-0.016428</td>\n",
       "      <td>-0.069369</td>\n",
       "    </tr>\n",
       "    <tr>\n",
       "      <td>koi_insol_err1</td>\n",
       "      <td>0.017538</td>\n",
       "      <td>0.030962</td>\n",
       "      <td>0.016958</td>\n",
       "      <td>0.045647</td>\n",
       "      <td>-0.029905</td>\n",
       "      <td>-0.016157</td>\n",
       "      <td>0.016157</td>\n",
       "      <td>-0.028232</td>\n",
       "      <td>-0.005414</td>\n",
       "      <td>0.005414</td>\n",
       "      <td>...</td>\n",
       "      <td>0.001485</td>\n",
       "      <td>-0.306905</td>\n",
       "      <td>0.044567</td>\n",
       "      <td>0.008545</td>\n",
       "      <td>0.539545</td>\n",
       "      <td>0.451557</td>\n",
       "      <td>-0.492747</td>\n",
       "      <td>0.019109</td>\n",
       "      <td>-0.016630</td>\n",
       "      <td>-0.088287</td>\n",
       "    </tr>\n",
       "    <tr>\n",
       "      <td>koi_insol_err2</td>\n",
       "      <td>-0.002140</td>\n",
       "      <td>-0.023719</td>\n",
       "      <td>-0.011543</td>\n",
       "      <td>-0.028259</td>\n",
       "      <td>0.020268</td>\n",
       "      <td>0.010945</td>\n",
       "      <td>-0.010945</td>\n",
       "      <td>0.020156</td>\n",
       "      <td>0.000172</td>\n",
       "      <td>-0.000172</td>\n",
       "      <td>...</td>\n",
       "      <td>-0.008395</td>\n",
       "      <td>0.257902</td>\n",
       "      <td>-0.032022</td>\n",
       "      <td>-0.020549</td>\n",
       "      <td>-0.544980</td>\n",
       "      <td>-0.331276</td>\n",
       "      <td>0.590077</td>\n",
       "      <td>-0.025760</td>\n",
       "      <td>0.016892</td>\n",
       "      <td>0.067074</td>\n",
       "    </tr>\n",
       "    <tr>\n",
       "      <td>koi_model_snr</td>\n",
       "      <td>-0.079241</td>\n",
       "      <td>0.439764</td>\n",
       "      <td>-0.134479</td>\n",
       "      <td>-0.091905</td>\n",
       "      <td>-0.081456</td>\n",
       "      <td>-0.082299</td>\n",
       "      <td>0.082299</td>\n",
       "      <td>-0.058522</td>\n",
       "      <td>-0.132032</td>\n",
       "      <td>0.132032</td>\n",
       "      <td>...</td>\n",
       "      <td>-0.124191</td>\n",
       "      <td>-0.043406</td>\n",
       "      <td>0.121086</td>\n",
       "      <td>-0.030688</td>\n",
       "      <td>-0.013017</td>\n",
       "      <td>-0.000443</td>\n",
       "      <td>-0.000525</td>\n",
       "      <td>0.029263</td>\n",
       "      <td>-0.000514</td>\n",
       "      <td>-0.130196</td>\n",
       "    </tr>\n",
       "    <tr>\n",
       "      <td>koi_tce_plnt_num</td>\n",
       "      <td>0.035902</td>\n",
       "      <td>-0.184721</td>\n",
       "      <td>-0.122911</td>\n",
       "      <td>-0.103976</td>\n",
       "      <td>-0.022590</td>\n",
       "      <td>0.021398</td>\n",
       "      <td>-0.021398</td>\n",
       "      <td>-0.006344</td>\n",
       "      <td>0.069041</td>\n",
       "      <td>-0.069041</td>\n",
       "      <td>...</td>\n",
       "      <td>0.125121</td>\n",
       "      <td>0.031275</td>\n",
       "      <td>-0.031824</td>\n",
       "      <td>0.106673</td>\n",
       "      <td>0.012990</td>\n",
       "      <td>-0.000811</td>\n",
       "      <td>-0.044325</td>\n",
       "      <td>-0.037044</td>\n",
       "      <td>0.027814</td>\n",
       "      <td>-0.051752</td>\n",
       "    </tr>\n",
       "    <tr>\n",
       "      <td>koi_steff</td>\n",
       "      <td>0.105008</td>\n",
       "      <td>0.104600</td>\n",
       "      <td>0.016750</td>\n",
       "      <td>0.012411</td>\n",
       "      <td>0.021806</td>\n",
       "      <td>0.032776</td>\n",
       "      <td>-0.032776</td>\n",
       "      <td>0.003641</td>\n",
       "      <td>0.049934</td>\n",
       "      <td>-0.049934</td>\n",
       "      <td>...</td>\n",
       "      <td>-0.605352</td>\n",
       "      <td>-0.132349</td>\n",
       "      <td>0.220278</td>\n",
       "      <td>-0.387793</td>\n",
       "      <td>-0.119217</td>\n",
       "      <td>-0.036235</td>\n",
       "      <td>0.071051</td>\n",
       "      <td>0.113754</td>\n",
       "      <td>-0.039747</td>\n",
       "      <td>-0.338068</td>\n",
       "    </tr>\n",
       "    <tr>\n",
       "      <td>koi_steff_err1</td>\n",
       "      <td>0.129444</td>\n",
       "      <td>0.222332</td>\n",
       "      <td>0.159761</td>\n",
       "      <td>0.120078</td>\n",
       "      <td>0.036838</td>\n",
       "      <td>0.078357</td>\n",
       "      <td>-0.078357</td>\n",
       "      <td>0.039981</td>\n",
       "      <td>0.063753</td>\n",
       "      <td>-0.063753</td>\n",
       "      <td>...</td>\n",
       "      <td>-0.836126</td>\n",
       "      <td>0.071628</td>\n",
       "      <td>0.201805</td>\n",
       "      <td>-0.467263</td>\n",
       "      <td>-0.088089</td>\n",
       "      <td>0.019470</td>\n",
       "      <td>0.039631</td>\n",
       "      <td>0.143919</td>\n",
       "      <td>-0.020797</td>\n",
       "      <td>0.070895</td>\n",
       "    </tr>\n",
       "    <tr>\n",
       "      <td>koi_steff_err2</td>\n",
       "      <td>-0.149565</td>\n",
       "      <td>-0.185036</td>\n",
       "      <td>-0.121247</td>\n",
       "      <td>-0.083607</td>\n",
       "      <td>-0.036036</td>\n",
       "      <td>-0.055134</td>\n",
       "      <td>0.055134</td>\n",
       "      <td>-0.030101</td>\n",
       "      <td>-0.056111</td>\n",
       "      <td>0.056111</td>\n",
       "      <td>...</td>\n",
       "      <td>1.000000</td>\n",
       "      <td>0.064437</td>\n",
       "      <td>-0.152302</td>\n",
       "      <td>0.406832</td>\n",
       "      <td>0.023374</td>\n",
       "      <td>-0.054865</td>\n",
       "      <td>0.025996</td>\n",
       "      <td>-0.133620</td>\n",
       "      <td>0.015411</td>\n",
       "      <td>0.057210</td>\n",
       "    </tr>\n",
       "    <tr>\n",
       "      <td>koi_slogg</td>\n",
       "      <td>-0.128576</td>\n",
       "      <td>-0.053394</td>\n",
       "      <td>-0.012101</td>\n",
       "      <td>0.003066</td>\n",
       "      <td>-0.055410</td>\n",
       "      <td>-0.014447</td>\n",
       "      <td>0.014447</td>\n",
       "      <td>-0.001929</td>\n",
       "      <td>-0.046285</td>\n",
       "      <td>0.046285</td>\n",
       "      <td>...</td>\n",
       "      <td>0.064437</td>\n",
       "      <td>1.000000</td>\n",
       "      <td>-0.475257</td>\n",
       "      <td>0.023782</td>\n",
       "      <td>-0.650854</td>\n",
       "      <td>-0.635135</td>\n",
       "      <td>0.560525</td>\n",
       "      <td>-0.077364</td>\n",
       "      <td>0.059115</td>\n",
       "      <td>0.479006</td>\n",
       "    </tr>\n",
       "    <tr>\n",
       "      <td>koi_slogg_err1</td>\n",
       "      <td>0.053214</td>\n",
       "      <td>0.118900</td>\n",
       "      <td>-0.019921</td>\n",
       "      <td>-0.006111</td>\n",
       "      <td>-0.006147</td>\n",
       "      <td>0.005737</td>\n",
       "      <td>-0.005737</td>\n",
       "      <td>-0.031890</td>\n",
       "      <td>0.035131</td>\n",
       "      <td>-0.035131</td>\n",
       "      <td>...</td>\n",
       "      <td>-0.152302</td>\n",
       "      <td>-0.475257</td>\n",
       "      <td>1.000000</td>\n",
       "      <td>-0.240160</td>\n",
       "      <td>0.080111</td>\n",
       "      <td>0.217340</td>\n",
       "      <td>-0.191198</td>\n",
       "      <td>0.088301</td>\n",
       "      <td>-0.035741</td>\n",
       "      <td>-0.333466</td>\n",
       "    </tr>\n",
       "    <tr>\n",
       "      <td>koi_slogg_err2</td>\n",
       "      <td>-0.140248</td>\n",
       "      <td>-0.061800</td>\n",
       "      <td>-0.057406</td>\n",
       "      <td>-0.052307</td>\n",
       "      <td>-0.168086</td>\n",
       "      <td>-0.140277</td>\n",
       "      <td>0.140277</td>\n",
       "      <td>-0.107467</td>\n",
       "      <td>-0.116730</td>\n",
       "      <td>0.116730</td>\n",
       "      <td>...</td>\n",
       "      <td>0.406832</td>\n",
       "      <td>0.023782</td>\n",
       "      <td>-0.240160</td>\n",
       "      <td>1.000000</td>\n",
       "      <td>0.050439</td>\n",
       "      <td>-0.166476</td>\n",
       "      <td>0.000039</td>\n",
       "      <td>-0.081768</td>\n",
       "      <td>-0.011361</td>\n",
       "      <td>-0.019689</td>\n",
       "    </tr>\n",
       "    <tr>\n",
       "      <td>koi_srad</td>\n",
       "      <td>0.045535</td>\n",
       "      <td>0.032638</td>\n",
       "      <td>0.032129</td>\n",
       "      <td>0.022411</td>\n",
       "      <td>0.017590</td>\n",
       "      <td>0.015100</td>\n",
       "      <td>-0.015100</td>\n",
       "      <td>-0.004831</td>\n",
       "      <td>0.047142</td>\n",
       "      <td>-0.047142</td>\n",
       "      <td>...</td>\n",
       "      <td>0.023374</td>\n",
       "      <td>-0.650854</td>\n",
       "      <td>0.080111</td>\n",
       "      <td>0.050439</td>\n",
       "      <td>1.000000</td>\n",
       "      <td>0.726436</td>\n",
       "      <td>-0.844701</td>\n",
       "      <td>0.040415</td>\n",
       "      <td>-0.033598</td>\n",
       "      <td>-0.175329</td>\n",
       "    </tr>\n",
       "    <tr>\n",
       "      <td>koi_srad_err1</td>\n",
       "      <td>0.098100</td>\n",
       "      <td>0.030783</td>\n",
       "      <td>0.029239</td>\n",
       "      <td>0.030085</td>\n",
       "      <td>0.041289</td>\n",
       "      <td>0.033152</td>\n",
       "      <td>-0.033152</td>\n",
       "      <td>0.006444</td>\n",
       "      <td>0.068065</td>\n",
       "      <td>-0.068065</td>\n",
       "      <td>...</td>\n",
       "      <td>-0.054865</td>\n",
       "      <td>-0.635135</td>\n",
       "      <td>0.217340</td>\n",
       "      <td>-0.166476</td>\n",
       "      <td>0.726436</td>\n",
       "      <td>1.000000</td>\n",
       "      <td>-0.680810</td>\n",
       "      <td>0.052780</td>\n",
       "      <td>-0.039541</td>\n",
       "      <td>-0.203018</td>\n",
       "    </tr>\n",
       "    <tr>\n",
       "      <td>koi_srad_err2</td>\n",
       "      <td>-0.062283</td>\n",
       "      <td>-0.034283</td>\n",
       "      <td>-0.016611</td>\n",
       "      <td>-0.011970</td>\n",
       "      <td>-0.008776</td>\n",
       "      <td>-0.008890</td>\n",
       "      <td>0.008890</td>\n",
       "      <td>0.011434</td>\n",
       "      <td>-0.042652</td>\n",
       "      <td>0.042652</td>\n",
       "      <td>...</td>\n",
       "      <td>0.025996</td>\n",
       "      <td>0.560525</td>\n",
       "      <td>-0.191198</td>\n",
       "      <td>0.000039</td>\n",
       "      <td>-0.844701</td>\n",
       "      <td>-0.680810</td>\n",
       "      <td>1.000000</td>\n",
       "      <td>-0.050085</td>\n",
       "      <td>0.030047</td>\n",
       "      <td>0.165630</td>\n",
       "    </tr>\n",
       "    <tr>\n",
       "      <td>ra</td>\n",
       "      <td>0.030920</td>\n",
       "      <td>0.088010</td>\n",
       "      <td>0.159988</td>\n",
       "      <td>0.069693</td>\n",
       "      <td>-0.030675</td>\n",
       "      <td>-0.005353</td>\n",
       "      <td>0.005353</td>\n",
       "      <td>-0.016981</td>\n",
       "      <td>-0.003804</td>\n",
       "      <td>0.003804</td>\n",
       "      <td>...</td>\n",
       "      <td>-0.133620</td>\n",
       "      <td>-0.077364</td>\n",
       "      <td>0.088301</td>\n",
       "      <td>-0.081768</td>\n",
       "      <td>0.040415</td>\n",
       "      <td>0.052780</td>\n",
       "      <td>-0.050085</td>\n",
       "      <td>1.000000</td>\n",
       "      <td>-0.024534</td>\n",
       "      <td>-0.001263</td>\n",
       "    </tr>\n",
       "    <tr>\n",
       "      <td>dec</td>\n",
       "      <td>-0.046510</td>\n",
       "      <td>-0.053471</td>\n",
       "      <td>-0.094027</td>\n",
       "      <td>-0.045495</td>\n",
       "      <td>0.011226</td>\n",
       "      <td>0.007145</td>\n",
       "      <td>-0.007145</td>\n",
       "      <td>0.010483</td>\n",
       "      <td>-0.009188</td>\n",
       "      <td>0.009188</td>\n",
       "      <td>...</td>\n",
       "      <td>0.015411</td>\n",
       "      <td>0.059115</td>\n",
       "      <td>-0.035741</td>\n",
       "      <td>-0.011361</td>\n",
       "      <td>-0.033598</td>\n",
       "      <td>-0.039541</td>\n",
       "      <td>0.030047</td>\n",
       "      <td>-0.024534</td>\n",
       "      <td>1.000000</td>\n",
       "      <td>0.025746</td>\n",
       "    </tr>\n",
       "    <tr>\n",
       "      <td>koi_kepmag</td>\n",
       "      <td>-0.101643</td>\n",
       "      <td>-0.006009</td>\n",
       "      <td>0.067023</td>\n",
       "      <td>0.047932</td>\n",
       "      <td>-0.045959</td>\n",
       "      <td>-0.034097</td>\n",
       "      <td>0.034097</td>\n",
       "      <td>0.021898</td>\n",
       "      <td>-0.041119</td>\n",
       "      <td>0.041119</td>\n",
       "      <td>...</td>\n",
       "      <td>0.057210</td>\n",
       "      <td>0.479006</td>\n",
       "      <td>-0.333466</td>\n",
       "      <td>-0.019689</td>\n",
       "      <td>-0.175329</td>\n",
       "      <td>-0.203018</td>\n",
       "      <td>0.165630</td>\n",
       "      <td>-0.001263</td>\n",
       "      <td>0.025746</td>\n",
       "      <td>1.000000</td>\n",
       "    </tr>\n",
       "  </tbody>\n",
       "</table>\n",
       "<p>40 rows × 40 columns</p>\n",
       "</div>"
      ],
      "text/plain": [
       "                   koi_fpflag_nt  koi_fpflag_ss  koi_fpflag_co  koi_fpflag_ec  \\\n",
       "koi_fpflag_nt           1.000000      -0.241148       0.003062       0.050790   \n",
       "koi_fpflag_ss          -0.241148       1.000000       0.144516       0.101695   \n",
       "koi_fpflag_co           0.003062       0.144516       1.000000       0.538280   \n",
       "koi_fpflag_ec           0.050790       0.101695       0.538280       1.000000   \n",
       "koi_period              0.408724      -0.155964      -0.164792      -0.138946   \n",
       "koi_period_err1         0.353231      -0.134208      -0.084351      -0.079903   \n",
       "koi_period_err2        -0.353231       0.134208       0.084351       0.079903   \n",
       "koi_time0bk             0.249381      -0.111469      -0.121452      -0.099760   \n",
       "koi_time0bk_err1        0.250697      -0.177043      -0.023107       0.013635   \n",
       "koi_time0bk_err2       -0.250697       0.177043       0.023107      -0.013635   \n",
       "koi_impact              0.072748       0.042021       0.007501      -0.004913   \n",
       "koi_impact_err1        -0.012333       0.130379       0.097642       0.030568   \n",
       "koi_impact_err2        -0.059048       0.054633       0.002609       0.011326   \n",
       "koi_duration            0.287118       0.014224      -0.048398       0.023232   \n",
       "koi_duration_err1       0.337558      -0.181716      -0.004961       0.025359   \n",
       "koi_duration_err2      -0.337558       0.181716       0.004961      -0.025359   \n",
       "koi_depth              -0.043942       0.423883      -0.132939      -0.088001   \n",
       "koi_depth_err1          0.031922       0.003900      -0.011108      -0.003062   \n",
       "koi_depth_err2         -0.031922      -0.003900       0.011108       0.003062   \n",
       "koi_prad                0.054410      -0.000752      -0.013284      -0.011078   \n",
       "koi_prad_err1           0.061662       0.004241      -0.015563      -0.013318   \n",
       "koi_prad_err2          -0.051273       0.003393       0.012901       0.009913   \n",
       "koi_teq                -0.003013       0.191842       0.259045       0.218624   \n",
       "koi_insol              -0.000566       0.031315       0.018086       0.034874   \n",
       "koi_insol_err1          0.017538       0.030962       0.016958       0.045647   \n",
       "koi_insol_err2         -0.002140      -0.023719      -0.011543      -0.028259   \n",
       "koi_model_snr          -0.079241       0.439764      -0.134479      -0.091905   \n",
       "koi_tce_plnt_num        0.035902      -0.184721      -0.122911      -0.103976   \n",
       "koi_steff               0.105008       0.104600       0.016750       0.012411   \n",
       "koi_steff_err1          0.129444       0.222332       0.159761       0.120078   \n",
       "koi_steff_err2         -0.149565      -0.185036      -0.121247      -0.083607   \n",
       "koi_slogg              -0.128576      -0.053394      -0.012101       0.003066   \n",
       "koi_slogg_err1          0.053214       0.118900      -0.019921      -0.006111   \n",
       "koi_slogg_err2         -0.140248      -0.061800      -0.057406      -0.052307   \n",
       "koi_srad                0.045535       0.032638       0.032129       0.022411   \n",
       "koi_srad_err1           0.098100       0.030783       0.029239       0.030085   \n",
       "koi_srad_err2          -0.062283      -0.034283      -0.016611      -0.011970   \n",
       "ra                      0.030920       0.088010       0.159988       0.069693   \n",
       "dec                    -0.046510      -0.053471      -0.094027      -0.045495   \n",
       "koi_kepmag             -0.101643      -0.006009       0.067023       0.047932   \n",
       "\n",
       "                   koi_period  koi_period_err1  koi_period_err2  koi_time0bk  \\\n",
       "koi_fpflag_nt        0.408724         0.353231        -0.353231     0.249381   \n",
       "koi_fpflag_ss       -0.155964        -0.134208         0.134208    -0.111469   \n",
       "koi_fpflag_co       -0.164792        -0.084351         0.084351    -0.121452   \n",
       "koi_fpflag_ec       -0.138946        -0.079903         0.079903    -0.099760   \n",
       "koi_period           1.000000         0.674842        -0.674842     0.655186   \n",
       "koi_period_err1      0.674842         1.000000        -1.000000     0.469613   \n",
       "koi_period_err2     -0.674842        -1.000000         1.000000    -0.469613   \n",
       "koi_time0bk          0.655186         0.469613        -0.469613     1.000000   \n",
       "koi_time0bk_err1     0.272529         0.472034        -0.472034     0.162845   \n",
       "koi_time0bk_err2    -0.272529        -0.472034         0.472034    -0.162845   \n",
       "koi_impact           0.067571         0.028068        -0.028068     0.055597   \n",
       "koi_impact_err1      0.012136        -0.004699         0.004699     0.044399   \n",
       "koi_impact_err2     -0.074607        -0.039732         0.039732    -0.065649   \n",
       "koi_duration         0.324488         0.268469        -0.268469     0.200979   \n",
       "koi_duration_err1    0.373670         0.529821        -0.529821     0.228485   \n",
       "koi_duration_err2   -0.373670        -0.529821         0.529821    -0.228485   \n",
       "koi_depth           -0.064272        -0.069138         0.069138    -0.037195   \n",
       "koi_depth_err1       0.038614         0.009823        -0.009823     0.055597   \n",
       "koi_depth_err2      -0.038614        -0.009823         0.009823    -0.055597   \n",
       "koi_prad             0.072790         0.030522        -0.030522     0.039814   \n",
       "koi_prad_err1        0.052353         0.021726        -0.021726     0.041496   \n",
       "koi_prad_err2       -0.070736        -0.030554         0.030554    -0.037977   \n",
       "koi_teq             -0.390006        -0.229438         0.229438    -0.315510   \n",
       "koi_insol           -0.021743        -0.011772         0.011772    -0.021307   \n",
       "koi_insol_err1      -0.029905        -0.016157         0.016157    -0.028232   \n",
       "koi_insol_err2       0.020268         0.010945        -0.010945     0.020156   \n",
       "koi_model_snr       -0.081456        -0.082299         0.082299    -0.058522   \n",
       "koi_tce_plnt_num    -0.022590         0.021398        -0.021398    -0.006344   \n",
       "koi_steff            0.021806         0.032776        -0.032776     0.003641   \n",
       "koi_steff_err1       0.036838         0.078357        -0.078357     0.039981   \n",
       "koi_steff_err2      -0.036036        -0.055134         0.055134    -0.030101   \n",
       "koi_slogg           -0.055410        -0.014447         0.014447    -0.001929   \n",
       "koi_slogg_err1      -0.006147         0.005737        -0.005737    -0.031890   \n",
       "koi_slogg_err2      -0.168086        -0.140277         0.140277    -0.107467   \n",
       "koi_srad             0.017590         0.015100        -0.015100    -0.004831   \n",
       "koi_srad_err1        0.041289         0.033152        -0.033152     0.006444   \n",
       "koi_srad_err2       -0.008776        -0.008890         0.008890     0.011434   \n",
       "ra                  -0.030675        -0.005353         0.005353    -0.016981   \n",
       "dec                  0.011226         0.007145        -0.007145     0.010483   \n",
       "koi_kepmag          -0.045959        -0.034097         0.034097     0.021898   \n",
       "\n",
       "                   koi_time0bk_err1  koi_time0bk_err2  ...  koi_steff_err2  \\\n",
       "koi_fpflag_nt              0.250697         -0.250697  ...       -0.149565   \n",
       "koi_fpflag_ss             -0.177043          0.177043  ...       -0.185036   \n",
       "koi_fpflag_co             -0.023107          0.023107  ...       -0.121247   \n",
       "koi_fpflag_ec              0.013635         -0.013635  ...       -0.083607   \n",
       "koi_period                 0.272529         -0.272529  ...       -0.036036   \n",
       "koi_period_err1            0.472034         -0.472034  ...       -0.055134   \n",
       "koi_period_err2           -0.472034          0.472034  ...        0.055134   \n",
       "koi_time0bk                0.162845         -0.162845  ...       -0.030101   \n",
       "koi_time0bk_err1           1.000000         -1.000000  ...       -0.056111   \n",
       "koi_time0bk_err2          -1.000000          1.000000  ...        0.056111   \n",
       "koi_impact                 0.023150         -0.023150  ...       -0.042486   \n",
       "koi_impact_err1           -0.015680          0.015680  ...       -0.035026   \n",
       "koi_impact_err2           -0.035277          0.035277  ...        0.010564   \n",
       "koi_duration               0.199305         -0.199305  ...       -0.064692   \n",
       "koi_duration_err1          0.519143         -0.519143  ...       -0.075200   \n",
       "koi_duration_err2         -0.519143          0.519143  ...        0.075200   \n",
       "koi_depth                 -0.110431          0.110431  ...       -0.145095   \n",
       "koi_depth_err1             0.015094         -0.015094  ...       -0.009112   \n",
       "koi_depth_err2            -0.015094          0.015094  ...        0.009112   \n",
       "koi_prad                   0.014575         -0.014575  ...       -0.023671   \n",
       "koi_prad_err1              0.031086         -0.031086  ...       -0.020388   \n",
       "koi_prad_err2             -0.013119          0.013119  ...        0.023403   \n",
       "koi_teq                   -0.106671          0.106671  ...       -0.197747   \n",
       "koi_insol                 -0.003327          0.003327  ...        0.017171   \n",
       "koi_insol_err1            -0.005414          0.005414  ...        0.001485   \n",
       "koi_insol_err2             0.000172         -0.000172  ...       -0.008395   \n",
       "koi_model_snr             -0.132032          0.132032  ...       -0.124191   \n",
       "koi_tce_plnt_num           0.069041         -0.069041  ...        0.125121   \n",
       "koi_steff                  0.049934         -0.049934  ...       -0.605352   \n",
       "koi_steff_err1             0.063753         -0.063753  ...       -0.836126   \n",
       "koi_steff_err2            -0.056111          0.056111  ...        1.000000   \n",
       "koi_slogg                 -0.046285          0.046285  ...        0.064437   \n",
       "koi_slogg_err1             0.035131         -0.035131  ...       -0.152302   \n",
       "koi_slogg_err2            -0.116730          0.116730  ...        0.406832   \n",
       "koi_srad                   0.047142         -0.047142  ...        0.023374   \n",
       "koi_srad_err1              0.068065         -0.068065  ...       -0.054865   \n",
       "koi_srad_err2             -0.042652          0.042652  ...        0.025996   \n",
       "ra                        -0.003804          0.003804  ...       -0.133620   \n",
       "dec                       -0.009188          0.009188  ...        0.015411   \n",
       "koi_kepmag                -0.041119          0.041119  ...        0.057210   \n",
       "\n",
       "                   koi_slogg  koi_slogg_err1  koi_slogg_err2  koi_srad  \\\n",
       "koi_fpflag_nt      -0.128576        0.053214       -0.140248  0.045535   \n",
       "koi_fpflag_ss      -0.053394        0.118900       -0.061800  0.032638   \n",
       "koi_fpflag_co      -0.012101       -0.019921       -0.057406  0.032129   \n",
       "koi_fpflag_ec       0.003066       -0.006111       -0.052307  0.022411   \n",
       "koi_period         -0.055410       -0.006147       -0.168086  0.017590   \n",
       "koi_period_err1    -0.014447        0.005737       -0.140277  0.015100   \n",
       "koi_period_err2     0.014447       -0.005737        0.140277 -0.015100   \n",
       "koi_time0bk        -0.001929       -0.031890       -0.107467 -0.004831   \n",
       "koi_time0bk_err1   -0.046285        0.035131       -0.116730  0.047142   \n",
       "koi_time0bk_err2    0.046285       -0.035131        0.116730 -0.047142   \n",
       "koi_impact         -0.073798        0.003575        0.005371  0.030429   \n",
       "koi_impact_err1     0.006963        0.004925       -0.010891  0.002778   \n",
       "koi_impact_err2     0.042619        0.020665       -0.019614 -0.022612   \n",
       "koi_duration       -0.129763        0.103475       -0.075161  0.016414   \n",
       "koi_duration_err1  -0.053938        0.026541       -0.125412  0.035273   \n",
       "koi_duration_err2   0.053938       -0.026541        0.125412 -0.035273   \n",
       "koi_depth          -0.010089        0.107630       -0.026884 -0.017221   \n",
       "koi_depth_err1      0.008869       -0.008146        0.017467 -0.002410   \n",
       "koi_depth_err2     -0.008869        0.008146       -0.017467  0.002410   \n",
       "koi_prad           -0.105581       -0.005685        0.022171  0.061426   \n",
       "koi_prad_err1      -0.100544        0.017244       -0.011894  0.043544   \n",
       "koi_prad_err2       0.101889        0.002496       -0.021115 -0.057594   \n",
       "koi_teq            -0.525108        0.260169       -0.016159  0.450489   \n",
       "koi_insol          -0.280029        0.022740        0.026484  0.565224   \n",
       "koi_insol_err1     -0.306905        0.044567        0.008545  0.539545   \n",
       "koi_insol_err2      0.257902       -0.032022       -0.020549 -0.544980   \n",
       "koi_model_snr      -0.043406        0.121086       -0.030688 -0.013017   \n",
       "koi_tce_plnt_num    0.031275       -0.031824        0.106673  0.012990   \n",
       "koi_steff          -0.132349        0.220278       -0.387793 -0.119217   \n",
       "koi_steff_err1      0.071628        0.201805       -0.467263 -0.088089   \n",
       "koi_steff_err2      0.064437       -0.152302        0.406832  0.023374   \n",
       "koi_slogg           1.000000       -0.475257        0.023782 -0.650854   \n",
       "koi_slogg_err1     -0.475257        1.000000       -0.240160  0.080111   \n",
       "koi_slogg_err2      0.023782       -0.240160        1.000000  0.050439   \n",
       "koi_srad           -0.650854        0.080111        0.050439  1.000000   \n",
       "koi_srad_err1      -0.635135        0.217340       -0.166476  0.726436   \n",
       "koi_srad_err2       0.560525       -0.191198        0.000039 -0.844701   \n",
       "ra                 -0.077364        0.088301       -0.081768  0.040415   \n",
       "dec                 0.059115       -0.035741       -0.011361 -0.033598   \n",
       "koi_kepmag          0.479006       -0.333466       -0.019689 -0.175329   \n",
       "\n",
       "                   koi_srad_err1  koi_srad_err2        ra       dec  \\\n",
       "koi_fpflag_nt           0.098100      -0.062283  0.030920 -0.046510   \n",
       "koi_fpflag_ss           0.030783      -0.034283  0.088010 -0.053471   \n",
       "koi_fpflag_co           0.029239      -0.016611  0.159988 -0.094027   \n",
       "koi_fpflag_ec           0.030085      -0.011970  0.069693 -0.045495   \n",
       "koi_period              0.041289      -0.008776 -0.030675  0.011226   \n",
       "koi_period_err1         0.033152      -0.008890 -0.005353  0.007145   \n",
       "koi_period_err2        -0.033152       0.008890  0.005353 -0.007145   \n",
       "koi_time0bk             0.006444       0.011434 -0.016981  0.010483   \n",
       "koi_time0bk_err1        0.068065      -0.042652 -0.003804 -0.009188   \n",
       "koi_time0bk_err2       -0.068065       0.042652  0.003804  0.009188   \n",
       "koi_impact              0.027216      -0.040577  0.018979  0.000357   \n",
       "koi_impact_err1        -0.003581      -0.003321  0.031275 -0.025840   \n",
       "koi_impact_err2        -0.013278       0.027843  0.003251 -0.005763   \n",
       "koi_duration            0.051874      -0.021147  0.038933 -0.034985   \n",
       "koi_duration_err1       0.070590      -0.041539  0.017246 -0.024835   \n",
       "koi_duration_err2      -0.070590       0.041539 -0.017246  0.024835   \n",
       "koi_depth              -0.003366       0.001752  0.019420 -0.016085   \n",
       "koi_depth_err1          0.000471       0.002033  0.012244 -0.017673   \n",
       "koi_depth_err2         -0.000471      -0.002033 -0.012244  0.017673   \n",
       "koi_prad                0.035028      -0.072665  0.007930  0.003478   \n",
       "koi_prad_err1           0.057477      -0.052134  0.009677  0.004542   \n",
       "koi_prad_err2          -0.032067       0.073624 -0.009093 -0.003414   \n",
       "koi_teq                 0.407895      -0.419508  0.112734 -0.061653   \n",
       "koi_insol               0.338314      -0.528672  0.023957 -0.016428   \n",
       "koi_insol_err1          0.451557      -0.492747  0.019109 -0.016630   \n",
       "koi_insol_err2         -0.331276       0.590077 -0.025760  0.016892   \n",
       "koi_model_snr          -0.000443      -0.000525  0.029263 -0.000514   \n",
       "koi_tce_plnt_num       -0.000811      -0.044325 -0.037044  0.027814   \n",
       "koi_steff              -0.036235       0.071051  0.113754 -0.039747   \n",
       "koi_steff_err1          0.019470       0.039631  0.143919 -0.020797   \n",
       "koi_steff_err2         -0.054865       0.025996 -0.133620  0.015411   \n",
       "koi_slogg              -0.635135       0.560525 -0.077364  0.059115   \n",
       "koi_slogg_err1          0.217340      -0.191198  0.088301 -0.035741   \n",
       "koi_slogg_err2         -0.166476       0.000039 -0.081768 -0.011361   \n",
       "koi_srad                0.726436      -0.844701  0.040415 -0.033598   \n",
       "koi_srad_err1           1.000000      -0.680810  0.052780 -0.039541   \n",
       "koi_srad_err2          -0.680810       1.000000 -0.050085  0.030047   \n",
       "ra                      0.052780      -0.050085  1.000000 -0.024534   \n",
       "dec                    -0.039541       0.030047 -0.024534  1.000000   \n",
       "koi_kepmag             -0.203018       0.165630 -0.001263  0.025746   \n",
       "\n",
       "                   koi_kepmag  \n",
       "koi_fpflag_nt       -0.101643  \n",
       "koi_fpflag_ss       -0.006009  \n",
       "koi_fpflag_co        0.067023  \n",
       "koi_fpflag_ec        0.047932  \n",
       "koi_period          -0.045959  \n",
       "koi_period_err1     -0.034097  \n",
       "koi_period_err2      0.034097  \n",
       "koi_time0bk          0.021898  \n",
       "koi_time0bk_err1    -0.041119  \n",
       "koi_time0bk_err2     0.041119  \n",
       "koi_impact          -0.000494  \n",
       "koi_impact_err1      0.058742  \n",
       "koi_impact_err2     -0.007268  \n",
       "koi_duration        -0.100665  \n",
       "koi_duration_err1   -0.057382  \n",
       "koi_duration_err2    0.057382  \n",
       "koi_depth            0.002357  \n",
       "koi_depth_err1       0.014122  \n",
       "koi_depth_err2      -0.014122  \n",
       "koi_prad            -0.023326  \n",
       "koi_prad_err1       -0.008056  \n",
       "koi_prad_err2        0.023830  \n",
       "koi_teq             -0.266714  \n",
       "koi_insol           -0.069369  \n",
       "koi_insol_err1      -0.088287  \n",
       "koi_insol_err2       0.067074  \n",
       "koi_model_snr       -0.130196  \n",
       "koi_tce_plnt_num    -0.051752  \n",
       "koi_steff           -0.338068  \n",
       "koi_steff_err1       0.070895  \n",
       "koi_steff_err2       0.057210  \n",
       "koi_slogg            0.479006  \n",
       "koi_slogg_err1      -0.333466  \n",
       "koi_slogg_err2      -0.019689  \n",
       "koi_srad            -0.175329  \n",
       "koi_srad_err1       -0.203018  \n",
       "koi_srad_err2        0.165630  \n",
       "ra                  -0.001263  \n",
       "dec                  0.025746  \n",
       "koi_kepmag           1.000000  \n",
       "\n",
       "[40 rows x 40 columns]"
      ]
     },
     "execution_count": 22,
     "metadata": {},
     "output_type": "execute_result"
    }
   ],
   "source": [
    "df.corr()"
   ]
  },
  {
   "cell_type": "code",
   "execution_count": 23,
   "metadata": {
    "scrolled": true
   },
   "outputs": [
    {
     "data": {
      "image/png": "[encoded data removed]",
      "text/plain": [
       "<Figure size 1800x1800 with 110 Axes>"
      ]
     },
     "metadata": {},
     "output_type": "display_data"
    }
   ],
   "source": [
    "# Use Pair Plot to visualize the correlation between the variables in the study\n",
    "\n",
    "pairplot = df[['koi_period', 'koi_time0bk','koi_duration', 'koi_depth', 'koi_prad',\n",
    "         'koi_teq', 'koi_insol', 'koi_slogg', 'koi_srad', 'koi_kepmag']]\n",
    "\n",
    "plot = sns.PairGrid(pairplot)\n",
    "plot = plot.map_diag(plt.hist)\n",
    "plot = plot.map_offdiag(plt.scatter)"
   ]
  },
  {
   "cell_type": "markdown",
   "metadata": {},
   "source": [
    "### Select our features"
   ]
  },
  {
   "cell_type": "code",
   "execution_count": 24,
   "metadata": {},
   "outputs": [],
   "source": [
    "# Set features. This will also be used as your x values.\n",
    "selected_features = df[['koi_period', 'koi_duration', 'koi_depth', 'koi_prad',\n",
    "         'koi_teq', 'koi_insol', 'koi_slogg', 'koi_srad']]\n",
    "X = selected_features"
   ]
  },
  {
   "cell_type": "code",
   "execution_count": 25,
   "metadata": {
    "scrolled": true
   },
   "outputs": [
    {
     "data": {
      "text/html": [
       "<div>\n",
       "<style scoped>\n",
       "    .dataframe tbody tr th:only-of-type {\n",
       "        vertical-align: middle;\n",
       "    }\n",
       "\n",
       "    .dataframe tbody tr th {\n",
       "        vertical-align: top;\n",
       "    }\n",
       "\n",
       "    .dataframe thead th {\n",
       "        text-align: right;\n",
       "    }\n",
       "</style>\n",
       "<table border=\"1\" class=\"dataframe\">\n",
       "  <thead>\n",
       "    <tr style=\"text-align: right;\">\n",
       "      <th></th>\n",
       "      <th>koi_disposition</th>\n",
       "    </tr>\n",
       "  </thead>\n",
       "  <tbody>\n",
       "    <tr>\n",
       "      <td>0</td>\n",
       "      <td>CONFIRMED</td>\n",
       "    </tr>\n",
       "    <tr>\n",
       "      <td>1</td>\n",
       "      <td>FALSE POSITIVE</td>\n",
       "    </tr>\n",
       "    <tr>\n",
       "      <td>2</td>\n",
       "      <td>FALSE POSITIVE</td>\n",
       "    </tr>\n",
       "    <tr>\n",
       "      <td>3</td>\n",
       "      <td>CONFIRMED</td>\n",
       "    </tr>\n",
       "    <tr>\n",
       "      <td>4</td>\n",
       "      <td>CONFIRMED</td>\n",
       "    </tr>\n",
       "    <tr>\n",
       "      <td>...</td>\n",
       "      <td>...</td>\n",
       "    </tr>\n",
       "    <tr>\n",
       "      <td>6986</td>\n",
       "      <td>FALSE POSITIVE</td>\n",
       "    </tr>\n",
       "    <tr>\n",
       "      <td>6987</td>\n",
       "      <td>FALSE POSITIVE</td>\n",
       "    </tr>\n",
       "    <tr>\n",
       "      <td>6988</td>\n",
       "      <td>CANDIDATE</td>\n",
       "    </tr>\n",
       "    <tr>\n",
       "      <td>6989</td>\n",
       "      <td>FALSE POSITIVE</td>\n",
       "    </tr>\n",
       "    <tr>\n",
       "      <td>6990</td>\n",
       "      <td>FALSE POSITIVE</td>\n",
       "    </tr>\n",
       "  </tbody>\n",
       "</table>\n",
       "<p>6991 rows × 1 columns</p>\n",
       "</div>"
      ],
      "text/plain": [
       "     koi_disposition\n",
       "0          CONFIRMED\n",
       "1     FALSE POSITIVE\n",
       "2     FALSE POSITIVE\n",
       "3          CONFIRMED\n",
       "4          CONFIRMED\n",
       "...              ...\n",
       "6986  FALSE POSITIVE\n",
       "6987  FALSE POSITIVE\n",
       "6988       CANDIDATE\n",
       "6989  FALSE POSITIVE\n",
       "6990  FALSE POSITIVE\n",
       "\n",
       "[6991 rows x 1 columns]"
      ]
     },
     "execution_count": 25,
     "metadata": {},
     "output_type": "execute_result"
    }
   ],
   "source": [
    "y_string = df[['koi_disposition']]\n",
    "y_string"
   ]
  },
  {
   "cell_type": "code",
   "execution_count": 26,
   "metadata": {},
   "outputs": [
    {
     "name": "stderr",
     "output_type": "stream",
     "text": [
      "C:\\Users\\marib\\Anaconda3\\lib\\site-packages\\pandas\\core\\generic.py:6786: SettingWithCopyWarning: \n",
      "A value is trying to be set on a copy of a slice from a DataFrame\n",
      "\n",
      "See the caveats in the documentation: http://pandas.pydata.org/pandas-docs/stable/user_guide/indexing.html#returning-a-view-versus-a-copy\n",
      "  self._update_inplace(new_data)\n"
     ]
    },
    {
     "data": {
      "text/html": [
       "<div>\n",
       "<style scoped>\n",
       "    .dataframe tbody tr th:only-of-type {\n",
       "        vertical-align: middle;\n",
       "    }\n",
       "\n",
       "    .dataframe tbody tr th {\n",
       "        vertical-align: top;\n",
       "    }\n",
       "\n",
       "    .dataframe thead th {\n",
       "        text-align: right;\n",
       "    }\n",
       "</style>\n",
       "<table border=\"1\" class=\"dataframe\">\n",
       "  <thead>\n",
       "    <tr style=\"text-align: right;\">\n",
       "      <th></th>\n",
       "      <th>koi_disposition</th>\n",
       "    </tr>\n",
       "  </thead>\n",
       "  <tbody>\n",
       "    <tr>\n",
       "      <td>0</td>\n",
       "      <td>0</td>\n",
       "    </tr>\n",
       "    <tr>\n",
       "      <td>1</td>\n",
       "      <td>1</td>\n",
       "    </tr>\n",
       "    <tr>\n",
       "      <td>2</td>\n",
       "      <td>1</td>\n",
       "    </tr>\n",
       "    <tr>\n",
       "      <td>3</td>\n",
       "      <td>0</td>\n",
       "    </tr>\n",
       "    <tr>\n",
       "      <td>4</td>\n",
       "      <td>0</td>\n",
       "    </tr>\n",
       "  </tbody>\n",
       "</table>\n",
       "</div>"
      ],
      "text/plain": [
       "  koi_disposition\n",
       "0               0\n",
       "1               1\n",
       "2               1\n",
       "3               0\n",
       "4               0"
      ]
     },
     "execution_count": 26,
     "metadata": {},
     "output_type": "execute_result"
    },
    {
     "data": {
      "text/plain": [
       "koi_disposition    object\n",
       "dtype: object"
      ]
     },
     "execution_count": 26,
     "metadata": {},
     "output_type": "execute_result"
    }
   ],
   "source": [
    "y_string[\"koi_disposition\"].replace({\"CONFIRMED\": \"0\", \"FALSE POSITIVE\": \"1\", \"CANDIDATE\": \"2\"}, inplace=True)\n",
    "y_string.head()\n",
    "y_string.dtypes"
   ]
  },
  {
   "cell_type": "code",
   "execution_count": 27,
   "metadata": {},
   "outputs": [
    {
     "data": {
      "text/html": [
       "<div>\n",
       "<style scoped>\n",
       "    .dataframe tbody tr th:only-of-type {\n",
       "        vertical-align: middle;\n",
       "    }\n",
       "\n",
       "    .dataframe tbody tr th {\n",
       "        vertical-align: top;\n",
       "    }\n",
       "\n",
       "    .dataframe thead th {\n",
       "        text-align: right;\n",
       "    }\n",
       "</style>\n",
       "<table border=\"1\" class=\"dataframe\">\n",
       "  <thead>\n",
       "    <tr style=\"text-align: right;\">\n",
       "      <th></th>\n",
       "      <th>koi_disposition</th>\n",
       "    </tr>\n",
       "  </thead>\n",
       "  <tbody>\n",
       "    <tr>\n",
       "      <td>0</td>\n",
       "      <td>0</td>\n",
       "    </tr>\n",
       "    <tr>\n",
       "      <td>1</td>\n",
       "      <td>1</td>\n",
       "    </tr>\n",
       "    <tr>\n",
       "      <td>2</td>\n",
       "      <td>1</td>\n",
       "    </tr>\n",
       "    <tr>\n",
       "      <td>3</td>\n",
       "      <td>0</td>\n",
       "    </tr>\n",
       "    <tr>\n",
       "      <td>4</td>\n",
       "      <td>0</td>\n",
       "    </tr>\n",
       "    <tr>\n",
       "      <td>...</td>\n",
       "      <td>...</td>\n",
       "    </tr>\n",
       "    <tr>\n",
       "      <td>6986</td>\n",
       "      <td>1</td>\n",
       "    </tr>\n",
       "    <tr>\n",
       "      <td>6987</td>\n",
       "      <td>1</td>\n",
       "    </tr>\n",
       "    <tr>\n",
       "      <td>6988</td>\n",
       "      <td>2</td>\n",
       "    </tr>\n",
       "    <tr>\n",
       "      <td>6989</td>\n",
       "      <td>1</td>\n",
       "    </tr>\n",
       "    <tr>\n",
       "      <td>6990</td>\n",
       "      <td>1</td>\n",
       "    </tr>\n",
       "  </tbody>\n",
       "</table>\n",
       "<p>6991 rows × 1 columns</p>\n",
       "</div>"
      ],
      "text/plain": [
       "      koi_disposition\n",
       "0                   0\n",
       "1                   1\n",
       "2                   1\n",
       "3                   0\n",
       "4                   0\n",
       "...               ...\n",
       "6986                1\n",
       "6987                1\n",
       "6988                2\n",
       "6989                1\n",
       "6990                1\n",
       "\n",
       "[6991 rows x 1 columns]"
      ]
     },
     "execution_count": 27,
     "metadata": {},
     "output_type": "execute_result"
    }
   ],
   "source": [
    "y = y_string.astype('int')\n",
    "y"
   ]
  },
  {
   "cell_type": "markdown",
   "metadata": {},
   "source": [
    "### Train test split"
   ]
  },
  {
   "cell_type": "code",
   "execution_count": 28,
   "metadata": {},
   "outputs": [],
   "source": [
    "from sklearn.model_selection import train_test_split\n",
    "\n",
    "X_train, X_test, y_train, y_test = train_test_split(X, y, test_size=0.15, random_state = 42, stratify = y)"
   ]
  },
  {
   "cell_type": "code",
   "execution_count": 29,
   "metadata": {
    "scrolled": true
   },
   "outputs": [
    {
     "data": {
      "text/plain": [
       "(6991, 8)"
      ]
     },
     "execution_count": 29,
     "metadata": {},
     "output_type": "execute_result"
    },
    {
     "data": {
      "text/plain": [
       "(5942, 8)"
      ]
     },
     "execution_count": 29,
     "metadata": {},
     "output_type": "execute_result"
    },
    {
     "data": {
      "text/plain": [
       "(1049, 8)"
      ]
     },
     "execution_count": 29,
     "metadata": {},
     "output_type": "execute_result"
    },
    {
     "data": {
      "text/plain": [
       "(6991, 1)"
      ]
     },
     "execution_count": 29,
     "metadata": {},
     "output_type": "execute_result"
    },
    {
     "data": {
      "text/plain": [
       "(5942, 1)"
      ]
     },
     "execution_count": 29,
     "metadata": {},
     "output_type": "execute_result"
    },
    {
     "data": {
      "text/plain": [
       "(1049, 1)"
      ]
     },
     "execution_count": 29,
     "metadata": {},
     "output_type": "execute_result"
    }
   ],
   "source": [
    "X.shape\n",
    "X_train.shape\n",
    "X_test.shape\n",
    "y.shape\n",
    "y_train.shape\n",
    "y_test.shape"
   ]
  },
  {
   "cell_type": "markdown",
   "metadata": {},
   "source": [
    "### Pre-processing\n",
    "\n",
    "* Scale the data"
   ]
  },
  {
   "cell_type": "code",
   "execution_count": 30,
   "metadata": {},
   "outputs": [],
   "source": [
    "from sklearn.preprocessing import MinMaxScaler\n",
    "scaler = MinMaxScaler().fit(X_train)"
   ]
  },
  {
   "cell_type": "code",
   "execution_count": 31,
   "metadata": {},
   "outputs": [],
   "source": [
    "X_train_scaled = scaler.transform(X_train)\n",
    "X_test_scaled = scaler.transform(X_test)"
   ]
  },
  {
   "cell_type": "code",
   "execution_count": 32,
   "metadata": {
    "scrolled": true
   },
   "outputs": [
    {
     "data": {
      "text/plain": [
       "array([[2.63740610e-02, 4.44956747e-02, 4.85470119e-04, 1.20291979e-05,\n",
       "        3.17667238e-02, 2.04703251e-06, 8.43896934e-01, 4.23003380e-03],\n",
       "       [1.28505894e-02, 5.72307459e-02, 1.30242622e-02, 7.38223390e-05,\n",
       "        4.92624357e-02, 9.30801484e-06, 8.18882829e-01, 5.23056741e-03],\n",
       "       [1.70119516e-01, 1.84573580e-02, 1.14506850e-04, 5.59033264e-06,\n",
       "        1.64665523e-02, 2.62159005e-07, 8.34305059e-01, 4.54686944e-03],\n",
       "       [1.08379367e-01, 4.95616919e-02, 1.02426864e-03, 1.55730695e-05,\n",
       "        1.58490566e-02, 2.34755624e-07, 8.43708858e-01, 4.03548559e-03],\n",
       "       [5.52614779e-03, 2.23533493e-02, 6.12433238e-05, 5.39067790e-06,\n",
       "        6.79245283e-02, 2.96568516e-05, 8.04024826e-01, 5.51405194e-03],\n",
       "       [1.17075781e-02, 4.50521417e-02, 2.13508240e-04, 1.36763495e-05,\n",
       "        5.59862779e-02, 1.46434530e-05, 7.65093098e-01, 7.45953397e-03],\n",
       "       [2.42145676e-03, 9.38044272e-03, 1.74906781e-04, 6.08946948e-06,\n",
       "        6.33962264e-02, 2.29960033e-05, 8.51796126e-01, 3.65194771e-03],\n",
       "       [3.07815051e-03, 6.04308644e-02, 2.48476621e-05, 3.04473474e-06,\n",
       "        8.26758148e-02, 6.11424221e-05, 7.97818319e-01, 5.55852010e-03],\n",
       "       [4.56046791e-01, 8.80446330e-02, 4.43430210e-04, 9.43368633e-06,\n",
       "        6.58662093e-03, 2.55764883e-08, 8.55557645e-01, 3.68529883e-03],\n",
       "       [1.39377600e-03, 2.40075737e-02, 7.68136604e-05, 4.39240422e-06,\n",
       "        9.29674099e-02, 9.45644981e-05, 8.47658454e-01, 4.08551227e-03]])"
      ]
     },
     "execution_count": 32,
     "metadata": {},
     "output_type": "execute_result"
    },
    {
     "data": {
      "text/plain": [
       "array([[1.45113679e-02, 4.48646051e-02, 2.43529795e-02, 7.72164696e-05,\n",
       "        3.58147513e-02, 3.06735170e-06, 8.53864961e-01, 3.77979367e-03],\n",
       "       [6.28751400e-03, 1.52504463e-01, 1.89212027e-03, 5.04178125e-04,\n",
       "        1.03807890e-01, 1.43327900e-04, 7.06413391e-01, 1.31069904e-02],\n",
       "       [1.32646350e-03, 3.82141025e-02, 1.79864960e-01, 5.09968112e-04,\n",
       "        1.44837050e-01, 5.08309868e-04, 7.70735377e-01, 8.44895055e-03],\n",
       "       [9.19530187e-03, 2.64574736e-02, 1.86454780e-04, 9.18411790e-06,\n",
       "        5.39965695e-02, 1.28549257e-05, 7.92364115e-01, 5.91982391e-03],\n",
       "       [2.39051692e-02, 5.50179587e-02, 7.49322447e-05, 4.89154106e-06,\n",
       "        3.57461407e-02, 3.04634244e-06, 8.42016175e-01, 4.30785308e-03],\n",
       "       [5.30111607e-03, 3.45948993e-02, 9.70550979e-05, 5.14110948e-06,\n",
       "        5.85248714e-02, 1.72084094e-05, 8.23584728e-01, 4.52463536e-03],\n",
       "       [2.20932045e-02, 3.61848048e-02, 9.78336147e-05, 1.43252274e-05,\n",
       "        6.36706690e-02, 2.33504203e-05, 7.49294715e-01, 1.03555229e-02],\n",
       "       [5.83703355e-03, 1.10202135e-02, 4.46090143e-04, 1.47245369e-05,\n",
       "        6.28473413e-02, 2.22561120e-05, 8.30919692e-01, 4.95819993e-03],\n",
       "       [3.30078638e-03, 1.11726999e-02, 1.93072173e-04, 7.96622401e-05,\n",
       "        6.79931389e-02, 2.97427155e-05, 8.52548430e-01, 3.80202775e-03],\n",
       "       [8.00367877e-02, 1.26614296e-02, 6.85419191e-04, 6.58860632e-06,\n",
       "        7.54716981e-03, 3.47109484e-08, 8.93360918e-01, 1.90657239e-03]])"
      ]
     },
     "execution_count": 32,
     "metadata": {},
     "output_type": "execute_result"
    }
   ],
   "source": [
    "X_train_scaled[0:10]\n",
    "X_test_scaled[0:10]"
   ]
  },
  {
   "cell_type": "code",
   "execution_count": 33,
   "metadata": {},
   "outputs": [],
   "source": [
    "y_train = y_train.values.ravel()\n",
    "y_test = y_test.values.ravel()"
   ]
  },
  {
   "cell_type": "markdown",
   "metadata": {},
   "source": [
    "### Train the Model: K Nearest Neighbors"
   ]
  },
  {
   "cell_type": "code",
   "execution_count": 40,
   "metadata": {},
   "outputs": [
    {
     "data": {
      "text/plain": [
       "KNeighborsClassifier(n_neighbors=1)"
      ]
     },
     "execution_count": 40,
     "metadata": {},
     "output_type": "execute_result"
    },
    {
     "name": "stdout",
     "output_type": "stream",
     "text": [
      "k: 1, Train/Test Score: 1.000/0.579/0.4214\n"
     ]
    },
    {
     "data": {
      "text/plain": [
       "KNeighborsClassifier(n_neighbors=3)"
      ]
     },
     "execution_count": 40,
     "metadata": {},
     "output_type": "execute_result"
    },
    {
     "name": "stdout",
     "output_type": "stream",
     "text": [
      "k: 3, Train/Test Score: 0.765/0.588/0.1772\n"
     ]
    },
    {
     "data": {
      "text/plain": [
       "KNeighborsClassifier()"
      ]
     },
     "execution_count": 40,
     "metadata": {},
     "output_type": "execute_result"
    },
    {
     "name": "stdout",
     "output_type": "stream",
     "text": [
      "k: 5, Train/Test Score: 0.723/0.613/0.1100\n"
     ]
    },
    {
     "data": {
      "text/plain": [
       "KNeighborsClassifier(n_neighbors=7)"
      ]
     },
     "execution_count": 40,
     "metadata": {},
     "output_type": "execute_result"
    },
    {
     "name": "stdout",
     "output_type": "stream",
     "text": [
      "k: 7, Train/Test Score: 0.708/0.619/0.0895\n"
     ]
    },
    {
     "data": {
      "text/plain": [
       "KNeighborsClassifier(n_neighbors=9)"
      ]
     },
     "execution_count": 40,
     "metadata": {},
     "output_type": "execute_result"
    },
    {
     "name": "stdout",
     "output_type": "stream",
     "text": [
      "k: 9, Train/Test Score: 0.702/0.636/0.0663\n"
     ]
    },
    {
     "data": {
      "text/plain": [
       "KNeighborsClassifier(n_neighbors=11)"
      ]
     },
     "execution_count": 40,
     "metadata": {},
     "output_type": "execute_result"
    },
    {
     "name": "stdout",
     "output_type": "stream",
     "text": [
      "k: 11, Train/Test Score: 0.690/0.630/0.0600\n"
     ]
    },
    {
     "data": {
      "text/plain": [
       "KNeighborsClassifier(n_neighbors=13)"
      ]
     },
     "execution_count": 40,
     "metadata": {},
     "output_type": "execute_result"
    },
    {
     "name": "stdout",
     "output_type": "stream",
     "text": [
      "k: 13, Train/Test Score: 0.680/0.627/0.0531\n"
     ]
    },
    {
     "data": {
      "text/plain": [
       "KNeighborsClassifier(n_neighbors=15)"
      ]
     },
     "execution_count": 40,
     "metadata": {},
     "output_type": "execute_result"
    },
    {
     "name": "stdout",
     "output_type": "stream",
     "text": [
      "k: 15, Train/Test Score: 0.686/0.633/0.0530\n"
     ]
    },
    {
     "data": {
      "text/plain": [
       "KNeighborsClassifier(n_neighbors=17)"
      ]
     },
     "execution_count": 40,
     "metadata": {},
     "output_type": "execute_result"
    },
    {
     "name": "stdout",
     "output_type": "stream",
     "text": [
      "k: 17, Train/Test Score: 0.676/0.644/0.0319\n"
     ]
    },
    {
     "data": {
      "text/plain": [
       "KNeighborsClassifier(n_neighbors=19)"
      ]
     },
     "execution_count": 40,
     "metadata": {},
     "output_type": "execute_result"
    },
    {
     "name": "stdout",
     "output_type": "stream",
     "text": [
      "k: 19, Train/Test Score: 0.679/0.637/0.0423\n"
     ]
    },
    {
     "data": {
      "text/plain": [
       "KNeighborsClassifier(n_neighbors=21)"
      ]
     },
     "execution_count": 40,
     "metadata": {},
     "output_type": "execute_result"
    },
    {
     "name": "stdout",
     "output_type": "stream",
     "text": [
      "k: 21, Train/Test Score: 0.675/0.634/0.0409\n"
     ]
    },
    {
     "data": {
      "text/plain": [
       "KNeighborsClassifier(n_neighbors=23)"
      ]
     },
     "execution_count": 40,
     "metadata": {},
     "output_type": "execute_result"
    },
    {
     "name": "stdout",
     "output_type": "stream",
     "text": [
      "k: 23, Train/Test Score: 0.672/0.643/0.0284\n"
     ]
    },
    {
     "data": {
      "text/plain": [
       "KNeighborsClassifier(n_neighbors=25)"
      ]
     },
     "execution_count": 40,
     "metadata": {},
     "output_type": "execute_result"
    },
    {
     "name": "stdout",
     "output_type": "stream",
     "text": [
      "k: 25, Train/Test Score: 0.670/0.647/0.0229\n"
     ]
    },
    {
     "data": {
      "text/plain": [
       "KNeighborsClassifier(n_neighbors=27)"
      ]
     },
     "execution_count": 40,
     "metadata": {},
     "output_type": "execute_result"
    },
    {
     "name": "stdout",
     "output_type": "stream",
     "text": [
      "k: 27, Train/Test Score: 0.671/0.638/0.0331\n"
     ]
    },
    {
     "data": {
      "text/plain": [
       "KNeighborsClassifier(n_neighbors=29)"
      ]
     },
     "execution_count": 40,
     "metadata": {},
     "output_type": "execute_result"
    },
    {
     "name": "stdout",
     "output_type": "stream",
     "text": [
      "k: 29, Train/Test Score: 0.668/0.637/0.0313\n"
     ]
    },
    {
     "data": {
      "text/plain": [
       "KNeighborsClassifier(n_neighbors=31)"
      ]
     },
     "execution_count": 40,
     "metadata": {},
     "output_type": "execute_result"
    },
    {
     "name": "stdout",
     "output_type": "stream",
     "text": [
      "k: 31, Train/Test Score: 0.668/0.638/0.0304\n"
     ]
    },
    {
     "data": {
      "text/plain": [
       "KNeighborsClassifier(n_neighbors=33)"
      ]
     },
     "execution_count": 40,
     "metadata": {},
     "output_type": "execute_result"
    },
    {
     "name": "stdout",
     "output_type": "stream",
     "text": [
      "k: 33, Train/Test Score: 0.664/0.634/0.0303\n"
     ]
    },
    {
     "data": {
      "text/plain": [
       "KNeighborsClassifier(n_neighbors=35)"
      ]
     },
     "execution_count": 40,
     "metadata": {},
     "output_type": "execute_result"
    },
    {
     "name": "stdout",
     "output_type": "stream",
     "text": [
      "k: 35, Train/Test Score: 0.663/0.626/0.0368\n"
     ]
    },
    {
     "data": {
      "text/plain": [
       "KNeighborsClassifier(n_neighbors=37)"
      ]
     },
     "execution_count": 40,
     "metadata": {},
     "output_type": "execute_result"
    },
    {
     "name": "stdout",
     "output_type": "stream",
     "text": [
      "k: 37, Train/Test Score: 0.660/0.632/0.0277\n"
     ]
    },
    {
     "data": {
      "text/plain": [
       "KNeighborsClassifier(n_neighbors=39)"
      ]
     },
     "execution_count": 40,
     "metadata": {},
     "output_type": "execute_result"
    },
    {
     "name": "stdout",
     "output_type": "stream",
     "text": [
      "k: 39, Train/Test Score: 0.661/0.632/0.0289\n"
     ]
    },
    {
     "data": {
      "text/plain": [
       "KNeighborsClassifier(n_neighbors=41)"
      ]
     },
     "execution_count": 40,
     "metadata": {},
     "output_type": "execute_result"
    },
    {
     "name": "stdout",
     "output_type": "stream",
     "text": [
      "k: 41, Train/Test Score: 0.664/0.632/0.0316\n"
     ]
    },
    {
     "data": {
      "text/plain": [
       "KNeighborsClassifier(n_neighbors=43)"
      ]
     },
     "execution_count": 40,
     "metadata": {},
     "output_type": "execute_result"
    },
    {
     "name": "stdout",
     "output_type": "stream",
     "text": [
      "k: 43, Train/Test Score: 0.661/0.633/0.0282\n"
     ]
    },
    {
     "data": {
      "text/plain": [
       "KNeighborsClassifier(n_neighbors=45)"
      ]
     },
     "execution_count": 40,
     "metadata": {},
     "output_type": "execute_result"
    },
    {
     "name": "stdout",
     "output_type": "stream",
     "text": [
      "k: 45, Train/Test Score: 0.660/0.629/0.0310\n"
     ]
    },
    {
     "data": {
      "text/plain": [
       "KNeighborsClassifier(n_neighbors=47)"
      ]
     },
     "execution_count": 40,
     "metadata": {},
     "output_type": "execute_result"
    },
    {
     "name": "stdout",
     "output_type": "stream",
     "text": [
      "k: 47, Train/Test Score: 0.659/0.623/0.0351\n"
     ]
    },
    {
     "data": {
      "text/plain": [
       "KNeighborsClassifier(n_neighbors=49)"
      ]
     },
     "execution_count": 40,
     "metadata": {},
     "output_type": "execute_result"
    },
    {
     "name": "stdout",
     "output_type": "stream",
     "text": [
      "k: 49, Train/Test Score: 0.656/0.628/0.0281\n"
     ]
    },
    {
     "data": {
      "text/plain": [
       "KNeighborsClassifier(n_neighbors=51)"
      ]
     },
     "execution_count": 40,
     "metadata": {},
     "output_type": "execute_result"
    },
    {
     "name": "stdout",
     "output_type": "stream",
     "text": [
      "k: 51, Train/Test Score: 0.658/0.630/0.0282\n"
     ]
    },
    {
     "data": {
      "text/plain": [
       "KNeighborsClassifier(n_neighbors=53)"
      ]
     },
     "execution_count": 40,
     "metadata": {},
     "output_type": "execute_result"
    },
    {
     "name": "stdout",
     "output_type": "stream",
     "text": [
      "k: 53, Train/Test Score: 0.658/0.633/0.0250\n"
     ]
    },
    {
     "data": {
      "text/plain": [
       "KNeighborsClassifier(n_neighbors=55)"
      ]
     },
     "execution_count": 40,
     "metadata": {},
     "output_type": "execute_result"
    },
    {
     "name": "stdout",
     "output_type": "stream",
     "text": [
      "k: 55, Train/Test Score: 0.656/0.635/0.0213\n"
     ]
    },
    {
     "data": {
      "text/plain": [
       "KNeighborsClassifier(n_neighbors=57)"
      ]
     },
     "execution_count": 40,
     "metadata": {},
     "output_type": "execute_result"
    },
    {
     "name": "stdout",
     "output_type": "stream",
     "text": [
      "k: 57, Train/Test Score: 0.653/0.640/0.0133\n"
     ]
    },
    {
     "data": {
      "text/plain": [
       "KNeighborsClassifier(n_neighbors=59)"
      ]
     },
     "execution_count": 40,
     "metadata": {},
     "output_type": "execute_result"
    },
    {
     "name": "stdout",
     "output_type": "stream",
     "text": [
      "k: 59, Train/Test Score: 0.657/0.637/0.0204\n"
     ]
    },
    {
     "data": {
      "text/plain": [
       "KNeighborsClassifier(n_neighbors=61)"
      ]
     },
     "execution_count": 40,
     "metadata": {},
     "output_type": "execute_result"
    },
    {
     "name": "stdout",
     "output_type": "stream",
     "text": [
      "k: 61, Train/Test Score: 0.655/0.635/0.0199\n"
     ]
    },
    {
     "data": {
      "text/plain": [
       "KNeighborsClassifier(n_neighbors=63)"
      ]
     },
     "execution_count": 40,
     "metadata": {},
     "output_type": "execute_result"
    },
    {
     "name": "stdout",
     "output_type": "stream",
     "text": [
      "k: 63, Train/Test Score: 0.652/0.638/0.0144\n"
     ]
    },
    {
     "data": {
      "text/plain": [
       "KNeighborsClassifier(n_neighbors=65)"
      ]
     },
     "execution_count": 40,
     "metadata": {},
     "output_type": "execute_result"
    },
    {
     "name": "stdout",
     "output_type": "stream",
     "text": [
      "k: 65, Train/Test Score: 0.650/0.632/0.0176\n"
     ]
    },
    {
     "data": {
      "text/plain": [
       "KNeighborsClassifier(n_neighbors=67)"
      ]
     },
     "execution_count": 40,
     "metadata": {},
     "output_type": "execute_result"
    },
    {
     "name": "stdout",
     "output_type": "stream",
     "text": [
      "k: 67, Train/Test Score: 0.650/0.632/0.0176\n"
     ]
    },
    {
     "data": {
      "text/plain": [
       "KNeighborsClassifier(n_neighbors=69)"
      ]
     },
     "execution_count": 40,
     "metadata": {},
     "output_type": "execute_result"
    },
    {
     "name": "stdout",
     "output_type": "stream",
     "text": [
      "k: 69, Train/Test Score: 0.648/0.631/0.0169\n"
     ]
    },
    {
     "data": {
      "text/plain": [
       "KNeighborsClassifier(n_neighbors=71)"
      ]
     },
     "execution_count": 40,
     "metadata": {},
     "output_type": "execute_result"
    },
    {
     "name": "stdout",
     "output_type": "stream",
     "text": [
      "k: 71, Train/Test Score: 0.648/0.637/0.0113\n"
     ]
    },
    {
     "data": {
      "text/plain": [
       "KNeighborsClassifier(n_neighbors=73)"
      ]
     },
     "execution_count": 40,
     "metadata": {},
     "output_type": "execute_result"
    },
    {
     "name": "stdout",
     "output_type": "stream",
     "text": [
      "k: 73, Train/Test Score: 0.649/0.640/0.0095\n"
     ]
    },
    {
     "data": {
      "text/plain": [
       "KNeighborsClassifier(n_neighbors=75)"
      ]
     },
     "execution_count": 40,
     "metadata": {},
     "output_type": "execute_result"
    },
    {
     "name": "stdout",
     "output_type": "stream",
     "text": [
      "k: 75, Train/Test Score: 0.647/0.637/0.0106\n"
     ]
    },
    {
     "data": {
      "text/plain": [
       "KNeighborsClassifier(n_neighbors=77)"
      ]
     },
     "execution_count": 40,
     "metadata": {},
     "output_type": "execute_result"
    },
    {
     "name": "stdout",
     "output_type": "stream",
     "text": [
      "k: 77, Train/Test Score: 0.646/0.637/0.0095\n"
     ]
    },
    {
     "data": {
      "text/plain": [
       "KNeighborsClassifier(n_neighbors=79)"
      ]
     },
     "execution_count": 40,
     "metadata": {},
     "output_type": "execute_result"
    },
    {
     "name": "stdout",
     "output_type": "stream",
     "text": [
      "k: 79, Train/Test Score: 0.647/0.641/0.0065\n"
     ]
    },
    {
     "data": {
      "text/plain": [
       "KNeighborsClassifier(n_neighbors=81)"
      ]
     },
     "execution_count": 40,
     "metadata": {},
     "output_type": "execute_result"
    },
    {
     "name": "stdout",
     "output_type": "stream",
     "text": [
      "k: 81, Train/Test Score: 0.646/0.638/0.0083\n"
     ]
    },
    {
     "data": {
      "text/plain": [
       "KNeighborsClassifier(n_neighbors=83)"
      ]
     },
     "execution_count": 40,
     "metadata": {},
     "output_type": "execute_result"
    },
    {
     "name": "stdout",
     "output_type": "stream",
     "text": [
      "k: 83, Train/Test Score: 0.644/0.636/0.0079\n"
     ]
    },
    {
     "data": {
      "text/plain": [
       "KNeighborsClassifier(n_neighbors=85)"
      ]
     },
     "execution_count": 40,
     "metadata": {},
     "output_type": "execute_result"
    },
    {
     "name": "stdout",
     "output_type": "stream",
     "text": [
      "k: 85, Train/Test Score: 0.643/0.631/0.0118\n"
     ]
    },
    {
     "data": {
      "text/plain": [
       "KNeighborsClassifier(n_neighbors=87)"
      ]
     },
     "execution_count": 40,
     "metadata": {},
     "output_type": "execute_result"
    },
    {
     "name": "stdout",
     "output_type": "stream",
     "text": [
      "k: 87, Train/Test Score: 0.643/0.630/0.0129\n"
     ]
    },
    {
     "data": {
      "text/plain": [
       "KNeighborsClassifier(n_neighbors=89)"
      ]
     },
     "execution_count": 40,
     "metadata": {},
     "output_type": "execute_result"
    },
    {
     "name": "stdout",
     "output_type": "stream",
     "text": [
      "k: 89, Train/Test Score: 0.642/0.628/0.0140\n"
     ]
    },
    {
     "data": {
      "text/plain": [
       "KNeighborsClassifier(n_neighbors=91)"
      ]
     },
     "execution_count": 40,
     "metadata": {},
     "output_type": "execute_result"
    },
    {
     "name": "stdout",
     "output_type": "stream",
     "text": [
      "k: 91, Train/Test Score: 0.641/0.634/0.0071\n"
     ]
    },
    {
     "data": {
      "text/plain": [
       "KNeighborsClassifier(n_neighbors=93)"
      ]
     },
     "execution_count": 40,
     "metadata": {},
     "output_type": "execute_result"
    },
    {
     "name": "stdout",
     "output_type": "stream",
     "text": [
      "k: 93, Train/Test Score: 0.643/0.631/0.0115\n"
     ]
    },
    {
     "data": {
      "text/plain": [
       "KNeighborsClassifier(n_neighbors=95)"
      ]
     },
     "execution_count": 40,
     "metadata": {},
     "output_type": "execute_result"
    },
    {
     "name": "stdout",
     "output_type": "stream",
     "text": [
      "k: 95, Train/Test Score: 0.639/0.635/0.0038\n"
     ]
    },
    {
     "data": {
      "text/plain": [
       "KNeighborsClassifier(n_neighbors=97)"
      ]
     },
     "execution_count": 40,
     "metadata": {},
     "output_type": "execute_result"
    },
    {
     "name": "stdout",
     "output_type": "stream",
     "text": [
      "k: 97, Train/Test Score: 0.639/0.631/0.0074\n"
     ]
    },
    {
     "data": {
      "text/plain": [
       "KNeighborsClassifier(n_neighbors=99)"
      ]
     },
     "execution_count": 40,
     "metadata": {},
     "output_type": "execute_result"
    },
    {
     "name": "stdout",
     "output_type": "stream",
     "text": [
      "k: 99, Train/Test Score: 0.640/0.633/0.0065\n"
     ]
    },
    {
     "data": {
      "text/plain": [
       "KNeighborsClassifier(n_neighbors=101)"
      ]
     },
     "execution_count": 40,
     "metadata": {},
     "output_type": "execute_result"
    },
    {
     "name": "stdout",
     "output_type": "stream",
     "text": [
      "k: 101, Train/Test Score: 0.639/0.626/0.0130\n"
     ]
    },
    {
     "data": {
      "text/plain": [
       "KNeighborsClassifier(n_neighbors=103)"
      ]
     },
     "execution_count": 40,
     "metadata": {},
     "output_type": "execute_result"
    },
    {
     "name": "stdout",
     "output_type": "stream",
     "text": [
      "k: 103, Train/Test Score: 0.639/0.628/0.0105\n"
     ]
    },
    {
     "data": {
      "text/plain": [
       "KNeighborsClassifier(n_neighbors=105)"
      ]
     },
     "execution_count": 40,
     "metadata": {},
     "output_type": "execute_result"
    },
    {
     "name": "stdout",
     "output_type": "stream",
     "text": [
      "k: 105, Train/Test Score: 0.640/0.627/0.0128\n"
     ]
    },
    {
     "data": {
      "text/plain": [
       "KNeighborsClassifier(n_neighbors=107)"
      ]
     },
     "execution_count": 40,
     "metadata": {},
     "output_type": "execute_result"
    },
    {
     "name": "stdout",
     "output_type": "stream",
     "text": [
      "k: 107, Train/Test Score: 0.641/0.627/0.0141\n"
     ]
    },
    {
     "data": {
      "text/plain": [
       "KNeighborsClassifier(n_neighbors=109)"
      ]
     },
     "execution_count": 40,
     "metadata": {},
     "output_type": "execute_result"
    },
    {
     "name": "stdout",
     "output_type": "stream",
     "text": [
      "k: 109, Train/Test Score: 0.641/0.627/0.0133\n"
     ]
    },
    {
     "data": {
      "text/plain": [
       "KNeighborsClassifier(n_neighbors=111)"
      ]
     },
     "execution_count": 40,
     "metadata": {},
     "output_type": "execute_result"
    },
    {
     "name": "stdout",
     "output_type": "stream",
     "text": [
      "k: 111, Train/Test Score: 0.641/0.628/0.0126\n"
     ]
    },
    {
     "data": {
      "text/plain": [
       "KNeighborsClassifier(n_neighbors=113)"
      ]
     },
     "execution_count": 40,
     "metadata": {},
     "output_type": "execute_result"
    },
    {
     "name": "stdout",
     "output_type": "stream",
     "text": [
      "k: 113, Train/Test Score: 0.640/0.627/0.0128\n"
     ]
    },
    {
     "data": {
      "text/plain": [
       "KNeighborsClassifier(n_neighbors=115)"
      ]
     },
     "execution_count": 40,
     "metadata": {},
     "output_type": "execute_result"
    },
    {
     "name": "stdout",
     "output_type": "stream",
     "text": [
      "k: 115, Train/Test Score: 0.640/0.630/0.0097\n"
     ]
    },
    {
     "data": {
      "text/plain": [
       "KNeighborsClassifier(n_neighbors=117)"
      ]
     },
     "execution_count": 40,
     "metadata": {},
     "output_type": "execute_result"
    },
    {
     "name": "stdout",
     "output_type": "stream",
     "text": [
      "k: 117, Train/Test Score: 0.638/0.631/0.0071\n"
     ]
    },
    {
     "data": {
      "text/plain": [
       "KNeighborsClassifier(n_neighbors=119)"
      ]
     },
     "execution_count": 40,
     "metadata": {},
     "output_type": "execute_result"
    },
    {
     "name": "stdout",
     "output_type": "stream",
     "text": [
      "k: 119, Train/Test Score: 0.637/0.633/0.0038\n"
     ]
    },
    {
     "data": {
      "text/plain": [
       "KNeighborsClassifier(n_neighbors=121)"
      ]
     },
     "execution_count": 40,
     "metadata": {},
     "output_type": "execute_result"
    },
    {
     "name": "stdout",
     "output_type": "stream",
     "text": [
      "k: 121, Train/Test Score: 0.637/0.629/0.0082\n"
     ]
    },
    {
     "data": {
      "text/plain": [
       "KNeighborsClassifier(n_neighbors=123)"
      ]
     },
     "execution_count": 40,
     "metadata": {},
     "output_type": "execute_result"
    },
    {
     "name": "stdout",
     "output_type": "stream",
     "text": [
      "k: 123, Train/Test Score: 0.636/0.628/0.0081\n"
     ]
    },
    {
     "data": {
      "text/plain": [
       "KNeighborsClassifier(n_neighbors=125)"
      ]
     },
     "execution_count": 40,
     "metadata": {},
     "output_type": "execute_result"
    },
    {
     "name": "stdout",
     "output_type": "stream",
     "text": [
      "k: 125, Train/Test Score: 0.637/0.628/0.0086\n"
     ]
    },
    {
     "data": {
      "text/plain": [
       "KNeighborsClassifier(n_neighbors=127)"
      ]
     },
     "execution_count": 40,
     "metadata": {},
     "output_type": "execute_result"
    },
    {
     "name": "stdout",
     "output_type": "stream",
     "text": [
      "k: 127, Train/Test Score: 0.636/0.625/0.0103\n"
     ]
    },
    {
     "data": {
      "text/plain": [
       "KNeighborsClassifier(n_neighbors=129)"
      ]
     },
     "execution_count": 40,
     "metadata": {},
     "output_type": "execute_result"
    },
    {
     "name": "stdout",
     "output_type": "stream",
     "text": [
      "k: 129, Train/Test Score: 0.636/0.627/0.0087\n"
     ]
    },
    {
     "data": {
      "text/plain": [
       "KNeighborsClassifier(n_neighbors=131)"
      ]
     },
     "execution_count": 40,
     "metadata": {},
     "output_type": "execute_result"
    },
    {
     "name": "stdout",
     "output_type": "stream",
     "text": [
      "k: 131, Train/Test Score: 0.636/0.628/0.0081\n"
     ]
    },
    {
     "data": {
      "text/plain": [
       "KNeighborsClassifier(n_neighbors=133)"
      ]
     },
     "execution_count": 40,
     "metadata": {},
     "output_type": "execute_result"
    },
    {
     "name": "stdout",
     "output_type": "stream",
     "text": [
      "k: 133, Train/Test Score: 0.635/0.627/0.0079\n"
     ]
    },
    {
     "data": {
      "text/plain": [
       "KNeighborsClassifier(n_neighbors=135)"
      ]
     },
     "execution_count": 40,
     "metadata": {},
     "output_type": "execute_result"
    },
    {
     "name": "stdout",
     "output_type": "stream",
     "text": [
      "k: 135, Train/Test Score: 0.635/0.628/0.0068\n"
     ]
    },
    {
     "data": {
      "text/plain": [
       "KNeighborsClassifier(n_neighbors=137)"
      ]
     },
     "execution_count": 40,
     "metadata": {},
     "output_type": "execute_result"
    },
    {
     "name": "stdout",
     "output_type": "stream",
     "text": [
      "k: 137, Train/Test Score: 0.632/0.628/0.0042\n"
     ]
    },
    {
     "data": {
      "text/plain": [
       "KNeighborsClassifier(n_neighbors=139)"
      ]
     },
     "execution_count": 40,
     "metadata": {},
     "output_type": "execute_result"
    },
    {
     "name": "stdout",
     "output_type": "stream",
     "text": [
      "k: 139, Train/Test Score: 0.633/0.625/0.0079\n"
     ]
    },
    {
     "data": {
      "text/plain": [
       "KNeighborsClassifier(n_neighbors=141)"
      ]
     },
     "execution_count": 40,
     "metadata": {},
     "output_type": "execute_result"
    },
    {
     "name": "stdout",
     "output_type": "stream",
     "text": [
      "k: 141, Train/Test Score: 0.636/0.623/0.0124\n"
     ]
    },
    {
     "data": {
      "text/plain": [
       "KNeighborsClassifier(n_neighbors=143)"
      ]
     },
     "execution_count": 40,
     "metadata": {},
     "output_type": "execute_result"
    },
    {
     "name": "stdout",
     "output_type": "stream",
     "text": [
      "k: 143, Train/Test Score: 0.632/0.623/0.0087\n"
     ]
    },
    {
     "data": {
      "text/plain": [
       "KNeighborsClassifier(n_neighbors=145)"
      ]
     },
     "execution_count": 40,
     "metadata": {},
     "output_type": "execute_result"
    },
    {
     "name": "stdout",
     "output_type": "stream",
     "text": [
      "k: 145, Train/Test Score: 0.633/0.623/0.0093\n"
     ]
    },
    {
     "data": {
      "text/plain": [
       "KNeighborsClassifier(n_neighbors=147)"
      ]
     },
     "execution_count": 40,
     "metadata": {},
     "output_type": "execute_result"
    },
    {
     "name": "stdout",
     "output_type": "stream",
     "text": [
      "k: 147, Train/Test Score: 0.633/0.623/0.0095\n"
     ]
    },
    {
     "data": {
      "text/plain": [
       "KNeighborsClassifier(n_neighbors=149)"
      ]
     },
     "execution_count": 40,
     "metadata": {},
     "output_type": "execute_result"
    },
    {
     "name": "stdout",
     "output_type": "stream",
     "text": [
      "k: 149, Train/Test Score: 0.634/0.622/0.0111\n"
     ]
    },
    {
     "data": {
      "text/plain": [
       "KNeighborsClassifier(n_neighbors=151)"
      ]
     },
     "execution_count": 40,
     "metadata": {},
     "output_type": "execute_result"
    },
    {
     "name": "stdout",
     "output_type": "stream",
     "text": [
      "k: 151, Train/Test Score: 0.633/0.622/0.0108\n"
     ]
    },
    {
     "data": {
      "text/plain": [
       "KNeighborsClassifier(n_neighbors=153)"
      ]
     },
     "execution_count": 40,
     "metadata": {},
     "output_type": "execute_result"
    },
    {
     "name": "stdout",
     "output_type": "stream",
     "text": [
      "k: 153, Train/Test Score: 0.634/0.622/0.0122\n"
     ]
    },
    {
     "data": {
      "text/plain": [
       "KNeighborsClassifier(n_neighbors=155)"
      ]
     },
     "execution_count": 40,
     "metadata": {},
     "output_type": "execute_result"
    },
    {
     "name": "stdout",
     "output_type": "stream",
     "text": [
      "k: 155, Train/Test Score: 0.633/0.625/0.0078\n"
     ]
    },
    {
     "data": {
      "text/plain": [
       "KNeighborsClassifier(n_neighbors=157)"
      ]
     },
     "execution_count": 40,
     "metadata": {},
     "output_type": "execute_result"
    },
    {
     "name": "stdout",
     "output_type": "stream",
     "text": [
      "k: 157, Train/Test Score: 0.633/0.626/0.0070\n"
     ]
    },
    {
     "data": {
      "text/plain": [
       "KNeighborsClassifier(n_neighbors=159)"
      ]
     },
     "execution_count": 40,
     "metadata": {},
     "output_type": "execute_result"
    },
    {
     "name": "stdout",
     "output_type": "stream",
     "text": [
      "k: 159, Train/Test Score: 0.634/0.627/0.0064\n"
     ]
    },
    {
     "data": {
      "text/plain": [
       "KNeighborsClassifier(n_neighbors=161)"
      ]
     },
     "execution_count": 40,
     "metadata": {},
     "output_type": "execute_result"
    },
    {
     "name": "stdout",
     "output_type": "stream",
     "text": [
      "k: 161, Train/Test Score: 0.633/0.627/0.0054\n"
     ]
    },
    {
     "data": {
      "text/plain": [
       "KNeighborsClassifier(n_neighbors=163)"
      ]
     },
     "execution_count": 40,
     "metadata": {},
     "output_type": "execute_result"
    },
    {
     "name": "stdout",
     "output_type": "stream",
     "text": [
      "k: 163, Train/Test Score: 0.632/0.623/0.0083\n"
     ]
    },
    {
     "data": {
      "text/plain": [
       "KNeighborsClassifier(n_neighbors=165)"
      ]
     },
     "execution_count": 40,
     "metadata": {},
     "output_type": "execute_result"
    },
    {
     "name": "stdout",
     "output_type": "stream",
     "text": [
      "k: 165, Train/Test Score: 0.630/0.630/-0.0002\n"
     ]
    },
    {
     "data": {
      "text/plain": [
       "KNeighborsClassifier(n_neighbors=167)"
      ]
     },
     "execution_count": 40,
     "metadata": {},
     "output_type": "execute_result"
    },
    {
     "name": "stdout",
     "output_type": "stream",
     "text": [
      "k: 167, Train/Test Score: 0.630/0.629/0.0011\n"
     ]
    },
    {
     "data": {
      "text/plain": [
       "KNeighborsClassifier(n_neighbors=169)"
      ]
     },
     "execution_count": 40,
     "metadata": {},
     "output_type": "execute_result"
    },
    {
     "name": "stdout",
     "output_type": "stream",
     "text": [
      "k: 169, Train/Test Score: 0.629/0.632/-0.0026\n"
     ]
    },
    {
     "data": {
      "text/plain": [
       "KNeighborsClassifier(n_neighbors=171)"
      ]
     },
     "execution_count": 40,
     "metadata": {},
     "output_type": "execute_result"
    },
    {
     "name": "stdout",
     "output_type": "stream",
     "text": [
      "k: 171, Train/Test Score: 0.630/0.632/-0.0018\n"
     ]
    },
    {
     "data": {
      "text/plain": [
       "KNeighborsClassifier(n_neighbors=173)"
      ]
     },
     "execution_count": 40,
     "metadata": {},
     "output_type": "execute_result"
    },
    {
     "name": "stdout",
     "output_type": "stream",
     "text": [
      "k: 173, Train/Test Score: 0.630/0.629/0.0009\n"
     ]
    },
    {
     "data": {
      "text/plain": [
       "KNeighborsClassifier(n_neighbors=175)"
      ]
     },
     "execution_count": 40,
     "metadata": {},
     "output_type": "execute_result"
    },
    {
     "name": "stdout",
     "output_type": "stream",
     "text": [
      "k: 175, Train/Test Score: 0.630/0.631/-0.0015\n"
     ]
    },
    {
     "data": {
      "text/plain": [
       "KNeighborsClassifier(n_neighbors=177)"
      ]
     },
     "execution_count": 40,
     "metadata": {},
     "output_type": "execute_result"
    },
    {
     "name": "stdout",
     "output_type": "stream",
     "text": [
      "k: 177, Train/Test Score: 0.629/0.635/-0.0055\n"
     ]
    },
    {
     "data": {
      "text/plain": [
       "KNeighborsClassifier(n_neighbors=179)"
      ]
     },
     "execution_count": 40,
     "metadata": {},
     "output_type": "execute_result"
    },
    {
     "name": "stdout",
     "output_type": "stream",
     "text": [
      "k: 179, Train/Test Score: 0.630/0.630/-0.0002\n"
     ]
    },
    {
     "data": {
      "text/plain": [
       "KNeighborsClassifier(n_neighbors=181)"
      ]
     },
     "execution_count": 40,
     "metadata": {},
     "output_type": "execute_result"
    },
    {
     "name": "stdout",
     "output_type": "stream",
     "text": [
      "k: 181, Train/Test Score: 0.629/0.634/-0.0049\n"
     ]
    },
    {
     "data": {
      "text/plain": [
       "KNeighborsClassifier(n_neighbors=183)"
      ]
     },
     "execution_count": 40,
     "metadata": {},
     "output_type": "execute_result"
    },
    {
     "name": "stdout",
     "output_type": "stream",
     "text": [
      "k: 183, Train/Test Score: 0.628/0.636/-0.0074\n"
     ]
    },
    {
     "data": {
      "text/plain": [
       "KNeighborsClassifier(n_neighbors=185)"
      ]
     },
     "execution_count": 40,
     "metadata": {},
     "output_type": "execute_result"
    },
    {
     "name": "stdout",
     "output_type": "stream",
     "text": [
      "k: 185, Train/Test Score: 0.629/0.637/-0.0074\n"
     ]
    },
    {
     "data": {
      "text/plain": [
       "KNeighborsClassifier(n_neighbors=187)"
      ]
     },
     "execution_count": 40,
     "metadata": {},
     "output_type": "execute_result"
    },
    {
     "name": "stdout",
     "output_type": "stream",
     "text": [
      "k: 187, Train/Test Score: 0.629/0.632/-0.0029\n"
     ]
    },
    {
     "data": {
      "text/plain": [
       "KNeighborsClassifier(n_neighbors=189)"
      ]
     },
     "execution_count": 40,
     "metadata": {},
     "output_type": "execute_result"
    },
    {
     "name": "stdout",
     "output_type": "stream",
     "text": [
      "k: 189, Train/Test Score: 0.628/0.632/-0.0045\n"
     ]
    },
    {
     "data": {
      "text/plain": [
       "KNeighborsClassifier(n_neighbors=191)"
      ]
     },
     "execution_count": 40,
     "metadata": {},
     "output_type": "execute_result"
    },
    {
     "name": "stdout",
     "output_type": "stream",
     "text": [
      "k: 191, Train/Test Score: 0.629/0.632/-0.0031\n"
     ]
    },
    {
     "data": {
      "text/plain": [
       "KNeighborsClassifier(n_neighbors=193)"
      ]
     },
     "execution_count": 40,
     "metadata": {},
     "output_type": "execute_result"
    },
    {
     "name": "stdout",
     "output_type": "stream",
     "text": [
      "k: 193, Train/Test Score: 0.628/0.630/-0.0024\n"
     ]
    },
    {
     "data": {
      "text/plain": [
       "KNeighborsClassifier(n_neighbors=195)"
      ]
     },
     "execution_count": 40,
     "metadata": {},
     "output_type": "execute_result"
    },
    {
     "name": "stdout",
     "output_type": "stream",
     "text": [
      "k: 195, Train/Test Score: 0.627/0.627/0.0001\n"
     ]
    },
    {
     "data": {
      "text/plain": [
       "KNeighborsClassifier(n_neighbors=197)"
      ]
     },
     "execution_count": 40,
     "metadata": {},
     "output_type": "execute_result"
    },
    {
     "name": "stdout",
     "output_type": "stream",
     "text": [
      "k: 197, Train/Test Score: 0.626/0.627/-0.0012\n"
     ]
    },
    {
     "data": {
      "text/plain": [
       "KNeighborsClassifier(n_neighbors=199)"
      ]
     },
     "execution_count": 40,
     "metadata": {},
     "output_type": "execute_result"
    },
    {
     "name": "stdout",
     "output_type": "stream",
     "text": [
      "k: 199, Train/Test Score: 0.627/0.629/-0.0018\n"
     ]
    },
    {
     "data": {
      "text/plain": [
       "KNeighborsClassifier(n_neighbors=201)"
      ]
     },
     "execution_count": 40,
     "metadata": {},
     "output_type": "execute_result"
    },
    {
     "name": "stdout",
     "output_type": "stream",
     "text": [
      "k: 201, Train/Test Score: 0.627/0.628/-0.0015\n"
     ]
    },
    {
     "data": {
      "text/plain": [
       "KNeighborsClassifier(n_neighbors=203)"
      ]
     },
     "execution_count": 40,
     "metadata": {},
     "output_type": "execute_result"
    },
    {
     "name": "stdout",
     "output_type": "stream",
     "text": [
      "k: 203, Train/Test Score: 0.625/0.627/-0.0019\n"
     ]
    },
    {
     "data": {
      "text/plain": [
       "KNeighborsClassifier(n_neighbors=205)"
      ]
     },
     "execution_count": 40,
     "metadata": {},
     "output_type": "execute_result"
    },
    {
     "name": "stdout",
     "output_type": "stream",
     "text": [
      "k: 205, Train/Test Score: 0.625/0.628/-0.0035\n"
     ]
    },
    {
     "data": {
      "text/plain": [
       "KNeighborsClassifier(n_neighbors=207)"
      ]
     },
     "execution_count": 40,
     "metadata": {},
     "output_type": "execute_result"
    },
    {
     "name": "stdout",
     "output_type": "stream",
     "text": [
      "k: 207, Train/Test Score: 0.626/0.630/-0.0044\n"
     ]
    },
    {
     "data": {
      "text/plain": [
       "KNeighborsClassifier(n_neighbors=209)"
      ]
     },
     "execution_count": 40,
     "metadata": {},
     "output_type": "execute_result"
    },
    {
     "name": "stdout",
     "output_type": "stream",
     "text": [
      "k: 209, Train/Test Score: 0.626/0.629/-0.0031\n"
     ]
    },
    {
     "data": {
      "text/plain": [
       "KNeighborsClassifier(n_neighbors=211)"
      ]
     },
     "execution_count": 40,
     "metadata": {},
     "output_type": "execute_result"
    },
    {
     "name": "stdout",
     "output_type": "stream",
     "text": [
      "k: 211, Train/Test Score: 0.625/0.626/-0.0013\n"
     ]
    },
    {
     "data": {
      "text/plain": [
       "KNeighborsClassifier(n_neighbors=213)"
      ]
     },
     "execution_count": 40,
     "metadata": {},
     "output_type": "execute_result"
    },
    {
     "name": "stdout",
     "output_type": "stream",
     "text": [
      "k: 213, Train/Test Score: 0.625/0.624/0.0003\n"
     ]
    },
    {
     "data": {
      "text/plain": [
       "KNeighborsClassifier(n_neighbors=215)"
      ]
     },
     "execution_count": 40,
     "metadata": {},
     "output_type": "execute_result"
    },
    {
     "name": "stdout",
     "output_type": "stream",
     "text": [
      "k: 215, Train/Test Score: 0.623/0.626/-0.0031\n"
     ]
    },
    {
     "data": {
      "text/plain": [
       "KNeighborsClassifier(n_neighbors=217)"
      ]
     },
     "execution_count": 40,
     "metadata": {},
     "output_type": "execute_result"
    },
    {
     "name": "stdout",
     "output_type": "stream",
     "text": [
      "k: 217, Train/Test Score: 0.624/0.627/-0.0031\n"
     ]
    },
    {
     "data": {
      "text/plain": [
       "KNeighborsClassifier(n_neighbors=219)"
      ]
     },
     "execution_count": 40,
     "metadata": {},
     "output_type": "execute_result"
    },
    {
     "name": "stdout",
     "output_type": "stream",
     "text": [
      "k: 219, Train/Test Score: 0.625/0.625/-0.0007\n"
     ]
    },
    {
     "data": {
      "text/plain": [
       "KNeighborsClassifier(n_neighbors=221)"
      ]
     },
     "execution_count": 40,
     "metadata": {},
     "output_type": "execute_result"
    },
    {
     "name": "stdout",
     "output_type": "stream",
     "text": [
      "k: 221, Train/Test Score: 0.624/0.629/-0.0048\n"
     ]
    },
    {
     "data": {
      "text/plain": [
       "KNeighborsClassifier(n_neighbors=223)"
      ]
     },
     "execution_count": 40,
     "metadata": {},
     "output_type": "execute_result"
    },
    {
     "name": "stdout",
     "output_type": "stream",
     "text": [
      "k: 223, Train/Test Score: 0.624/0.631/-0.0069\n"
     ]
    },
    {
     "data": {
      "text/plain": [
       "KNeighborsClassifier(n_neighbors=225)"
      ]
     },
     "execution_count": 40,
     "metadata": {},
     "output_type": "execute_result"
    },
    {
     "name": "stdout",
     "output_type": "stream",
     "text": [
      "k: 225, Train/Test Score: 0.624/0.628/-0.0040\n"
     ]
    },
    {
     "data": {
      "text/plain": [
       "KNeighborsClassifier(n_neighbors=227)"
      ]
     },
     "execution_count": 40,
     "metadata": {},
     "output_type": "execute_result"
    },
    {
     "name": "stdout",
     "output_type": "stream",
     "text": [
      "k: 227, Train/Test Score: 0.624/0.632/-0.0078\n"
     ]
    },
    {
     "data": {
      "text/plain": [
       "KNeighborsClassifier(n_neighbors=229)"
      ]
     },
     "execution_count": 40,
     "metadata": {},
     "output_type": "execute_result"
    },
    {
     "name": "stdout",
     "output_type": "stream",
     "text": [
      "k: 229, Train/Test Score: 0.624/0.631/-0.0067\n"
     ]
    },
    {
     "data": {
      "text/plain": [
       "KNeighborsClassifier(n_neighbors=231)"
      ]
     },
     "execution_count": 40,
     "metadata": {},
     "output_type": "execute_result"
    },
    {
     "name": "stdout",
     "output_type": "stream",
     "text": [
      "k: 231, Train/Test Score: 0.625/0.632/-0.0068\n"
     ]
    },
    {
     "data": {
      "text/plain": [
       "KNeighborsClassifier(n_neighbors=233)"
      ]
     },
     "execution_count": 40,
     "metadata": {},
     "output_type": "execute_result"
    },
    {
     "name": "stdout",
     "output_type": "stream",
     "text": [
      "k: 233, Train/Test Score: 0.624/0.628/-0.0045\n"
     ]
    },
    {
     "data": {
      "text/plain": [
       "KNeighborsClassifier(n_neighbors=235)"
      ]
     },
     "execution_count": 40,
     "metadata": {},
     "output_type": "execute_result"
    },
    {
     "name": "stdout",
     "output_type": "stream",
     "text": [
      "k: 235, Train/Test Score: 0.623/0.630/-0.0069\n"
     ]
    },
    {
     "data": {
      "text/plain": [
       "KNeighborsClassifier(n_neighbors=237)"
      ]
     },
     "execution_count": 40,
     "metadata": {},
     "output_type": "execute_result"
    },
    {
     "name": "stdout",
     "output_type": "stream",
     "text": [
      "k: 237, Train/Test Score: 0.622/0.629/-0.0068\n"
     ]
    },
    {
     "data": {
      "text/plain": [
       "KNeighborsClassifier(n_neighbors=239)"
      ]
     },
     "execution_count": 40,
     "metadata": {},
     "output_type": "execute_result"
    },
    {
     "name": "stdout",
     "output_type": "stream",
     "text": [
      "k: 239, Train/Test Score: 0.622/0.627/-0.0049\n"
     ]
    },
    {
     "data": {
      "text/plain": [
       "KNeighborsClassifier(n_neighbors=241)"
      ]
     },
     "execution_count": 40,
     "metadata": {},
     "output_type": "execute_result"
    },
    {
     "name": "stdout",
     "output_type": "stream",
     "text": [
      "k: 241, Train/Test Score: 0.622/0.632/-0.0104\n"
     ]
    },
    {
     "data": {
      "text/plain": [
       "KNeighborsClassifier(n_neighbors=243)"
      ]
     },
     "execution_count": 40,
     "metadata": {},
     "output_type": "execute_result"
    },
    {
     "name": "stdout",
     "output_type": "stream",
     "text": [
      "k: 243, Train/Test Score: 0.622/0.630/-0.0084\n"
     ]
    },
    {
     "data": {
      "text/plain": [
       "KNeighborsClassifier(n_neighbors=245)"
      ]
     },
     "execution_count": 40,
     "metadata": {},
     "output_type": "execute_result"
    },
    {
     "name": "stdout",
     "output_type": "stream",
     "text": [
      "k: 245, Train/Test Score: 0.622/0.630/-0.0083\n"
     ]
    },
    {
     "data": {
      "text/plain": [
       "KNeighborsClassifier(n_neighbors=247)"
      ]
     },
     "execution_count": 40,
     "metadata": {},
     "output_type": "execute_result"
    },
    {
     "name": "stdout",
     "output_type": "stream",
     "text": [
      "k: 247, Train/Test Score: 0.622/0.625/-0.0033\n"
     ]
    },
    {
     "data": {
      "text/plain": [
       "KNeighborsClassifier(n_neighbors=249)"
      ]
     },
     "execution_count": 40,
     "metadata": {},
     "output_type": "execute_result"
    },
    {
     "name": "stdout",
     "output_type": "stream",
     "text": [
      "k: 249, Train/Test Score: 0.623/0.626/-0.0036\n"
     ]
    }
   ],
   "source": [
    "# Loop through different k values to see which has the highest accuracy\n",
    "# Note: We only use odd numbers because we don't want any ties\n",
    "train_scores = []\n",
    "test_scores = []\n",
    "\n",
    "for k in range(1, 250, 2):\n",
    "    knn = KNeighborsClassifier(n_neighbors=k)\n",
    "    knn.fit(X_train_scaled, y_train)\n",
    "    train_score = knn.score(X_train_scaled, y_train)\n",
    "    test_score = knn.score(X_test_scaled, y_test)\n",
    "    train_scores.append(train_score)\n",
    "    test_scores.append(test_score)\n",
    "    print(f\"k: {k}, Train/Test Score: {train_score:.3f}/{test_score:.3f}/{train_score-test_score:.4f}\")"
   ]
  },
  {
   "cell_type": "code",
   "execution_count": 39,
   "metadata": {
    "scrolled": true
   },
   "outputs": [
    {
     "data": {
      "text/plain": [
       "[<matplotlib.lines.Line2D at 0x271866c8788>]"
      ]
     },
     "execution_count": 39,
     "metadata": {},
     "output_type": "execute_result"
    },
    {
     "data": {
      "text/plain": [
       "[<matplotlib.lines.Line2D at 0x2718671b6c8>]"
      ]
     },
     "execution_count": 39,
     "metadata": {},
     "output_type": "execute_result"
    },
    {
     "data": {
      "text/plain": [
       "Text(0.5, 0, 'k neighbors')"
      ]
     },
     "execution_count": 39,
     "metadata": {},
     "output_type": "execute_result"
    },
    {
     "data": {
      "text/plain": [
       "Text(0, 0.5, 'Testing accuracy Score')"
      ]
     },
     "execution_count": 39,
     "metadata": {},
     "output_type": "execute_result"
    },
    {
     "data": {
      "image/png": "[encoded data removed]",
      "text/plain": [
       "<Figure size 432x288 with 1 Axes>"
      ]
     },
     "metadata": {},
     "output_type": "display_data"
    }
   ],
   "source": [
    "plt.plot(range(1, 250, 2), train_scores, marker='o')\n",
    "plt.plot(range(1, 250, 2), test_scores, marker=\"x\")\n",
    "plt.xlabel(\"k neighbors\")\n",
    "plt.ylabel(\"Testing accuracy Score\")\n",
    "plt.show()"
   ]
  },
  {
   "cell_type": "code",
   "execution_count": 41,
   "metadata": {},
   "outputs": [
    {
     "name": "stdout",
     "output_type": "stream",
     "text": [
      "k=25 Test Acc: 0.647\n"
     ]
    }
   ],
   "source": [
    "# Note that k: 25 provides the best accuracy where the classifier starts to stablize\n",
    "knn = KNeighborsClassifier(n_neighbors=25)\n",
    "model = knn.fit(X_train_scaled, y_train)\n",
    "print('k=25 Test Acc: %.3f' % knn.score(X_test_scaled, y_test))"
   ]
  },
  {
   "cell_type": "code",
   "execution_count": 52,
   "metadata": {},
   "outputs": [
    {
     "name": "stdout",
     "output_type": "stream",
     "text": [
      "              precision    recall  f1-score   support\n",
      "\n",
      "           0       0.00      0.00      0.00       270\n",
      "           1       0.50      1.00      0.67       526\n",
      "           2       0.00      0.00      0.00       253\n",
      "\n",
      "    accuracy                           0.50      1049\n",
      "   macro avg       0.17      0.33      0.22      1049\n",
      "weighted avg       0.25      0.50      0.33      1049\n",
      "\n"
     ]
    },
    {
     "name": "stderr",
     "output_type": "stream",
     "text": [
      "C:\\Users\\marib\\Anaconda3\\lib\\site-packages\\sklearn\\metrics\\_classification.py:1221: UndefinedMetricWarning: Precision and F-score are ill-defined and being set to 0.0 in labels with no predicted samples. Use `zero_division` parameter to control this behavior.\n",
      "  _warn_prf(average, modifier, msg_start, len(result))\n"
     ]
    }
   ],
   "source": [
    "from sklearn.metrics import classification_report\n",
    "\n",
    "# Check accuracy rate of the model in classification report\n",
    "print(classification_report(y_test, model.predict(X_test)))"
   ]
  },
  {
   "cell_type": "markdown",
   "metadata": {},
   "source": [
    "### Save the Model"
   ]
  },
  {
   "cell_type": "code",
   "execution_count": 53,
   "metadata": {
    "scrolled": true
   },
   "outputs": [
    {
     "data": {
      "text/plain": [
       "['./KNN_model.sav']"
      ]
     },
     "execution_count": 53,
     "metadata": {},
     "output_type": "execute_result"
    }
   ],
   "source": [
    "filename = './KNN_model.sav'\n",
    "joblib.dump(model, filename)"
   ]
  }
 ],
 "metadata": {
  "kernelspec": {
   "display_name": "Python 3",
   "language": "python",
   "name": "python3"
  },
  "language_info": {
   "codemirror_mode": {
    "name": "ipython",
    "version": 3
   },
   "file_extension": ".py",
   "mimetype": "text/x-python",
   "name": "python",
   "nbconvert_exporter": "python",
   "pygments_lexer": "ipython3",
   "version": "3.7.4"
  }
 },
 "nbformat": 4,
 "nbformat_minor": 2
}
